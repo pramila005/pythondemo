{
 "cells": [
  {
   "cell_type": "code",
   "execution_count": 24,
   "metadata": {},
   "outputs": [
    {
     "data": {
      "text/plain": [
       "array([0, 1, 2, 3, 4])"
      ]
     },
     "execution_count": 24,
     "metadata": {},
     "output_type": "execute_result"
    }
   ],
   "source": [
    "#1  Create a NumPy array 'arr' of integers from 0 to 5 and print its data type\n",
    "import numpy as np\n",
    "arr=np.arange(0,5)\n",
    "arr"
   ]
  },
  {
   "cell_type": "code",
   "execution_count": null,
   "metadata": {},
   "outputs": [
    {
     "data": {
      "text/plain": [
       "numpy.ndarray"
      ]
     },
     "execution_count": 11,
     "metadata": {},
     "output_type": "execute_result"
    }
   ],
   "source": [
    "type(arr)"
   ]
  },
  {
   "cell_type": "code",
   "execution_count": null,
   "metadata": {},
   "outputs": [
    {
     "data": {
      "text/plain": [
       "False"
      ]
     },
     "execution_count": 17,
     "metadata": {},
     "output_type": "execute_result"
    }
   ],
   "source": [
    "#2 Given a NumPy array 'arr', check if its data type is float64.\n",
    "arr = np.array([1.5, 2.6, 3.7])\n",
    "arr1 = np.array([1.5,2.6,3.7], dtype=np.float64)\n",
    "arr1.dtype is np.float64"
   ]
  },
  {
   "cell_type": "code",
   "execution_count": 16,
   "metadata": {},
   "outputs": [
    {
     "data": {
      "text/plain": [
       "array([[[  0,   1,   2,   3,   4,   5,   6,   7],\n",
       "        [  8,   9,  10,  11,  12,  13,  14,  15],\n",
       "        [ 16,  17,  18,  19,  20,  21,  22,  23],\n",
       "        [ 24,  25,  26,  27,  28,  29,  30,  31]],\n",
       "\n",
       "       [[ 32,  33,  34,  35,  36,  37,  38,  39],\n",
       "        [ 40,  41,  42,  43,  44,  45,  46,  47],\n",
       "        [ 48,  49,  50,  51,  52,  53,  54,  55],\n",
       "        [ 56,  57,  58,  59,  60,  61,  62,  63]],\n",
       "\n",
       "       [[ 64,  65,  66,  67,  68,  69,  70,  71],\n",
       "        [ 72,  73,  74,  75,  76,  77,  78,  79],\n",
       "        [ 80,  81,  82,  83,  84,  85,  86,  87],\n",
       "        [ 88,  89,  90,  91,  92,  93,  94,  95]],\n",
       "\n",
       "       [[ 96,  97,  98,  99, 100, 101, 102, 103],\n",
       "        [104, 105, 106, 107, 108, 109, 110, 111],\n",
       "        [112, 113, 114, 115, 116, 117, 118, 119],\n",
       "        [120, 121, 122, 123, 124, 125, 126, 127]]])"
      ]
     },
     "execution_count": 16,
     "metadata": {},
     "output_type": "execute_result"
    }
   ],
   "source": [
    "#3 Create a NumPy array 'arr' with a data type of complex128 containing three complex numbers.\n",
    "a=np.arange(128).reshape((4,4,8))\n",
    "a"
   ]
  },
  {
   "cell_type": "code",
   "execution_count": null,
   "metadata": {},
   "outputs": [
    {
     "name": "stdout",
     "output_type": "stream",
     "text": [
      "Float Array with Int32 Data Type:\n",
      "[1 2 3 4 5]\n"
     ]
    }
   ],
   "source": [
    "#4 Convert an existing NumPy array 'arr' of integers to float32 data type.\n",
    "integer_array = np.array([1, 2, 3, 4, 5], dtype=np.float64)\n",
    "float_array = np.array([1.1, 2.2, 3.3, 4.4, 5.5], dtype=np.int32)\n",
    " \n",
    "print(\"Float Array with Int32 Data Type:\")\n",
    "print(float_array)"
   ]
  },
  {
   "cell_type": "code",
   "execution_count": null,
   "metadata": {},
   "outputs": [
    {
     "name": "stdout",
     "output_type": "stream",
     "text": [
      "Integer Array with Float64 Data Type:\n",
      "[1. 2. 3. 4. 5.]\n",
      "Float Array with Int32 Data Type:\n",
      "[1 2 3 4 5]\n"
     ]
    }
   ],
   "source": [
    "#5  Given a NumPy array 'arr' with float64 data type, convert it to float32 to reduce decimal precision.\n",
    "integer_array = np.array([1, 2, 3, 4, 5], dtype=np.float64)\n",
    "float_array = np.array([1.1, 2.2, 3.3, 4.4, 5.5], dtype=np.int32)\n",
    " \n",
    "print(\"Integer Array with Float64 Data Type:\")\n",
    "print(integer_array)\n",
    " \n",
    "print(\"Float Array with Int32 Data Type:\")\n",
    "print(float_array)"
   ]
  },
  {
   "cell_type": "code",
   "execution_count": null,
   "metadata": {},
   "outputs": [
    {
     "data": {
      "text/plain": [
       "array([[10, 11, 12, 13],\n",
       "       [ 2,  3,  4,  5],\n",
       "       [56, 76, 56, 45]])"
      ]
     },
     "execution_count": 70,
     "metadata": {},
     "output_type": "execute_result"
    }
   ],
   "source": [
    "#6 Write a function array_attributes that takes a NumPy array as input and returns its shape, size, and data\n",
    "#type.\n",
    "arr= np.array([[10,11,12,13],[2,3,4,5],[56,76,56,45]])\n",
    "arr"
   ]
  },
  {
   "cell_type": "code",
   "execution_count": null,
   "metadata": {},
   "outputs": [
    {
     "data": {
      "text/plain": [
       "(3, 4)"
      ]
     },
     "execution_count": 71,
     "metadata": {},
     "output_type": "execute_result"
    }
   ],
   "source": [
    "arr.shape"
   ]
  },
  {
   "cell_type": "code",
   "execution_count": null,
   "metadata": {},
   "outputs": [
    {
     "data": {
      "text/plain": [
       "12"
      ]
     },
     "execution_count": 72,
     "metadata": {},
     "output_type": "execute_result"
    }
   ],
   "source": [
    "arr.size"
   ]
  },
  {
   "cell_type": "code",
   "execution_count": null,
   "metadata": {},
   "outputs": [
    {
     "data": {
      "text/plain": [
       "dtype('int32')"
      ]
     },
     "execution_count": 74,
     "metadata": {},
     "output_type": "execute_result"
    }
   ],
   "source": [
    "arr.dtype"
   ]
  },
  {
   "cell_type": "code",
   "execution_count": null,
   "metadata": {},
   "outputs": [
    {
     "data": {
      "text/plain": [
       "2"
      ]
     },
     "execution_count": 76,
     "metadata": {},
     "output_type": "execute_result"
    }
   ],
   "source": [
    "#7 Create a function array_dimension that takes a NumPy array as input and returns its dimensionality.\n",
    "x= np.array([[2,5,6]])\n",
    "x.ndim"
   ]
  },
  {
   "cell_type": "code",
   "execution_count": null,
   "metadata": {},
   "outputs": [
    {
     "data": {
      "text/plain": [
       "5"
      ]
     },
     "execution_count": 78,
     "metadata": {},
     "output_type": "execute_result"
    }
   ],
   "source": [
    "y= np.zeros((2,4,6,7,3))\n",
    "y.ndim"
   ]
  },
  {
   "cell_type": "code",
   "execution_count": null,
   "metadata": {},
   "outputs": [
    {
     "name": "stdout",
     "output_type": "stream",
     "text": [
      "Size of the array: 6\n",
      "Memory size of one array element in bytes: 4\n",
      "Memory size of numpy array in bytes: 24\n"
     ]
    }
   ],
   "source": [
    "#8  Design a function item_size_info that takes a NumPy array as input and returns the item size and the total\n",
    "#size in bytes.\n",
    "x = np.array([[100, 20, 34],\n",
    "              [300, 400, 600]])\n",
    " \n",
    "print(\"Size of the array:\",x.size)\n",
    " \n",
    "print(\"Memory size of one array element in bytes:\", x.itemsize)\n",
    " \n",
    "# memory size of numpy array\n",
    "print(\"Memory size of numpy array in bytes:\", x.size* x.itemsize)"
   ]
  },
  {
   "cell_type": "code",
   "execution_count": null,
   "metadata": {},
   "outputs": [
    {
     "data": {
      "text/plain": [
       "array([[[ 0,  1,  2,  3],\n",
       "        [ 4,  5,  6,  7],\n",
       "        [ 8,  9, 10, 11]],\n",
       "\n",
       "       [[12, 13, 14, 15],\n",
       "        [16, 17, 18, 19],\n",
       "        [20, 21, 22, 23]]])"
      ]
     },
     "execution_count": 84,
     "metadata": {},
     "output_type": "execute_result"
    }
   ],
   "source": [
    "#9 Create a function array_strides that takes a NumPy array as input and returns the strides of the array.\n",
    "x = np.reshape(np.arange(2*3*4), (2,3,4))\n",
    "x"
   ]
  },
  {
   "cell_type": "code",
   "execution_count": null,
   "metadata": {},
   "outputs": [
    {
     "data": {
      "text/plain": [
       "(48, 16, 4)"
      ]
     },
     "execution_count": 85,
     "metadata": {},
     "output_type": "execute_result"
    }
   ],
   "source": [
    "x.strides"
   ]
  },
  {
   "cell_type": "code",
   "execution_count": null,
   "metadata": {},
   "outputs": [
    {
     "data": {
      "text/plain": [
       "array([[[ 0,  1,  2,  3],\n",
       "        [ 4,  5,  6,  7],\n",
       "        [ 8,  9, 10, 11]],\n",
       "\n",
       "       [[12, 13, 14, 15],\n",
       "        [16, 17, 18, 19],\n",
       "        [20, 21, 22, 23]],\n",
       "\n",
       "       [[24, 25, 26, 27],\n",
       "        [28, 29, 30, 31],\n",
       "        [32, 33, 34, 35]]])"
      ]
     },
     "execution_count": 93,
     "metadata": {},
     "output_type": "execute_result"
    }
   ],
   "source": [
    "#10 Design a function shape_stride_relationship that takes a NumPy array as input and returns the shape\n",
    "#and strides of the array\n",
    "x = np.reshape(np.arange(3*3*4), (3,3,4))\n",
    "x"
   ]
  },
  {
   "cell_type": "code",
   "execution_count": null,
   "metadata": {},
   "outputs": [
    {
     "data": {
      "text/plain": [
       "(48, 16, 4)"
      ]
     },
     "execution_count": 95,
     "metadata": {},
     "output_type": "execute_result"
    }
   ],
   "source": [
    "x.strides"
   ]
  },
  {
   "cell_type": "code",
   "execution_count": null,
   "metadata": {},
   "outputs": [
    {
     "data": {
      "text/plain": [
       "34"
      ]
     },
     "execution_count": 97,
     "metadata": {},
     "output_type": "execute_result"
    }
   ],
   "source": [
    "x[2,2,2]"
   ]
  },
  {
   "cell_type": "code",
   "execution_count": null,
   "metadata": {},
   "outputs": [
    {
     "data": {
      "text/plain": [
       "17.0"
      ]
     },
     "execution_count": 98,
     "metadata": {},
     "output_type": "execute_result"
    }
   ],
   "source": [
    "offset=sum(x.strides * np.array((1,1,1)))\n",
    "offset/x.itemsize"
   ]
  },
  {
   "cell_type": "code",
   "execution_count": null,
   "metadata": {},
   "outputs": [
    {
     "name": "stdout",
     "output_type": "stream",
     "text": [
      "[[[0. 0. 0. 0. 0.]\n",
      "  [0. 0. 0. 0. 0.]\n",
      "  [0. 0. 0. 0. 0.]\n",
      "  [0. 0. 0. 0. 0.]]\n",
      "\n",
      " [[0. 0. 0. 0. 0.]\n",
      "  [0. 0. 0. 0. 0.]\n",
      "  [0. 0. 0. 0. 0.]\n",
      "  [0. 0. 0. 0. 0.]]\n",
      "\n",
      " [[0. 0. 0. 0. 0.]\n",
      "  [0. 0. 0. 0. 0.]\n",
      "  [0. 0. 0. 0. 0.]\n",
      "  [0. 0. 0. 0. 0.]]]\n"
     ]
    }
   ],
   "source": [
    "#11 Create a function `create_zeros_array` that takes an integer `n` as input and returns a NumPy array of\n",
    "#zeros with `n` elements.\n",
    "#creating 3D array\n",
    "arr = np.zeros((3, 4, 5))\n",
    " \n",
    "print(arr)"
   ]
  },
  {
   "cell_type": "code",
   "execution_count": null,
   "metadata": {},
   "outputs": [
    {
     "name": "stdout",
     "output_type": "stream",
     "text": [
      "[[1, 2, 3, 4, 5], [6, 7, 8, 9, 10], [11, 12, 13, 14, 15], [16, 17, 18, 19, 20]]\n"
     ]
    }
   ],
   "source": [
    "#12 Write a function `create_ones_matrix` that takes integers `rows` and `cols` as inputs and generates a 2D\n",
    "#NumPy array filled with ones of size `rows x cols`.\n",
    "def create_matrix(row, col):\n",
    "    ''' create a 2D matrix by consecutive numbers - starting 1 - or change to whatever number in code\n",
    "\n",
    "    '''\n",
    "\n",
    "    matrix = [[ j + (col *i) for j in range(1, col+1)] # 1\n",
    "                             for i in range(row)]\n",
    "\n",
    "    return matrix\n",
    "print(create_matrix(4,5))"
   ]
  },
  {
   "cell_type": "code",
   "execution_count": null,
   "metadata": {},
   "outputs": [
    {
     "data": {
      "text/plain": [
       "array([ 5,  7,  9, 11, 13, 15, 17, 19, 21, 23, 25, 27, 29, 31, 33, 35, 37,\n",
       "       39, 41, 43, 45, 47, 49])"
      ]
     },
     "execution_count": 114,
     "metadata": {},
     "output_type": "execute_result"
    }
   ],
   "source": [
    "#13  Write a function `generate_range_array` that takes three integers start, stop, and step as arguments and\n",
    "#creates a NumPy array with a range starting from `start`, ending at stop (exclusive), and with the specified step.\n",
    "\n",
    "np.arange(start=5, stop=50, step=2)"
   ]
  },
  {
   "cell_type": "code",
   "execution_count": null,
   "metadata": {},
   "outputs": [
    {
     "data": {
      "text/plain": [
       "array([ 3.        ,  3.34693878,  3.69387755,  4.04081633,  4.3877551 ,\n",
       "        4.73469388,  5.08163265,  5.42857143,  5.7755102 ,  6.12244898,\n",
       "        6.46938776,  6.81632653,  7.16326531,  7.51020408,  7.85714286,\n",
       "        8.20408163,  8.55102041,  8.89795918,  9.24489796,  9.59183673,\n",
       "        9.93877551, 10.28571429, 10.63265306, 10.97959184, 11.32653061,\n",
       "       11.67346939, 12.02040816, 12.36734694, 12.71428571, 13.06122449,\n",
       "       13.40816327, 13.75510204, 14.10204082, 14.44897959, 14.79591837,\n",
       "       15.14285714, 15.48979592, 15.83673469, 16.18367347, 16.53061224,\n",
       "       16.87755102, 17.2244898 , 17.57142857, 17.91836735, 18.26530612,\n",
       "       18.6122449 , 18.95918367, 19.30612245, 19.65306122, 20.        ])"
      ]
     },
     "execution_count": 115,
     "metadata": {},
     "output_type": "execute_result"
    }
   ],
   "source": [
    "#14 Design a function `generate_linear_space` that takes two floats `start`, `stop`, and an integer `num` as\n",
    "#arguments and generates a NumPy array with num equally spaced values between `start` and `stop` (inclusive).\n",
    "np.linspace(start=3, stop=20)"
   ]
  },
  {
   "cell_type": "code",
   "execution_count": null,
   "metadata": {},
   "outputs": [
    {
     "data": {
      "text/plain": [
       "array([[1., 0., 0., 0., 0., 0., 0., 0., 0.],\n",
       "       [0., 1., 0., 0., 0., 0., 0., 0., 0.],\n",
       "       [0., 0., 1., 0., 0., 0., 0., 0., 0.],\n",
       "       [0., 0., 0., 1., 0., 0., 0., 0., 0.],\n",
       "       [0., 0., 0., 0., 1., 0., 0., 0., 0.],\n",
       "       [0., 0., 0., 0., 0., 1., 0., 0., 0.],\n",
       "       [0., 0., 0., 0., 0., 0., 1., 0., 0.],\n",
       "       [0., 0., 0., 0., 0., 0., 0., 1., 0.],\n",
       "       [0., 0., 0., 0., 0., 0., 0., 0., 1.]])"
      ]
     },
     "execution_count": 116,
     "metadata": {},
     "output_type": "execute_result"
    }
   ],
   "source": [
    "#15  Create a function `create_identity_matrix` that takes an integer `n` as input and generates a square\n",
    "#identity matrix of size `n x n` using `numpy.eye.\n",
    "np.eye(3*3)"
   ]
  },
  {
   "cell_type": "code",
   "execution_count": null,
   "metadata": {},
   "outputs": [
    {
     "name": "stdout",
     "output_type": "stream",
     "text": [
      "List: [11, 12, 13, 10, 16, 16, 17]\n",
      "Array: [11 12 13 10 16 16 17]\n"
     ]
    }
   ],
   "source": [
    "#16 Write a function that takes a Python list and converts it into a NumPy array.\n",
    "list=[11,12,13,10,16,16,17]\n",
    "arr= np.array(list)\n",
    "arr\n",
    "print(\"List:\", list)\n",
    "print(\"Array:\", arr)"
   ]
  },
  {
   "cell_type": "code",
   "execution_count": null,
   "metadata": {},
   "outputs": [
    {
     "name": "stdout",
     "output_type": "stream",
     "text": [
      "1408501824560\n",
      "1408501824560\n"
     ]
    }
   ],
   "source": [
    "#17 Create a NumPy array and demonstrate the use of `numpy.view` to create a new array object with the same data.\n",
    "x=np.array([2,3,4,5,6])\n",
    "y=np.array([10,11,12,13,14])\n",
    "z = np.empty(2, dtype=object)\n",
    "z[:] = [x,y]\n",
    "print(id(x))\n",
    "print(id(z[0]))"
   ]
  },
  {
   "cell_type": "code",
   "execution_count": null,
   "metadata": {},
   "outputs": [
    {
     "data": {
      "text/plain": [
       "array([ 3,  4,  5,  6,  7,  8, 10, 11, 12, 13, 14, 15])"
      ]
     },
     "execution_count": 130,
     "metadata": {},
     "output_type": "execute_result"
    }
   ],
   "source": [
    "#18 Write a function that takes two NumPy arrays and concatenates them along a specified axis.\n",
    "arr1=np.array([3,4,5,6,7,8])\n",
    "arr2=np.array([10,11,12,13,14,15])\n",
    "np.concatenate((arr1,arr2),axis=0)"
   ]
  },
  {
   "cell_type": "code",
   "execution_count": null,
   "metadata": {},
   "outputs": [
    {
     "data": {
      "text/plain": [
       "array([[ 3,  4,  5,  6,  7,  8,  9, 10, 10, 11, 12, 13, 14, 15]])"
      ]
     },
     "execution_count": 137,
     "metadata": {},
     "output_type": "execute_result"
    }
   ],
   "source": [
    "#19  Create two NumPy arrays with different shapes and concatenate them horizontally using `numpy.concatenate`\n",
    "arr1=np.array([[3,4,5,6,7,8,9,10]])\n",
    "arr2=np.array([[10,11,12,13,14,15]])\n",
    "np.hstack((arr1,arr2))"
   ]
  },
  {
   "cell_type": "code",
   "execution_count": null,
   "metadata": {},
   "outputs": [
    {
     "data": {
      "text/plain": [
       "array([[ 3,  4,  5,  6,  7,  8],\n",
       "       [10, 11, 12, 13, 14, 15],\n",
       "       [ 1,  3,  5,  9,  0,  6]])"
      ]
     },
     "execution_count": 142,
     "metadata": {},
     "output_type": "execute_result"
    }
   ],
   "source": [
    "#20 Write a function that vertically stacks multiple NumPy arrays given as a list.\n",
    "arr1=np.array([[3,4,5,6,7,8]])\n",
    "arr2=np.array([[10,11,12,13,14,15]])\n",
    "arr3=np.array([[1,3,5,9,0,6]])\n",
    "np.vstack((arr1,arr2,arr3))"
   ]
  },
  {
   "cell_type": "code",
   "execution_count": null,
   "metadata": {},
   "outputs": [
    {
     "data": {
      "text/plain": [
       "array([ 2,  4,  6,  8, 10, 12, 14, 16, 18])"
      ]
     },
     "execution_count": 145,
     "metadata": {},
     "output_type": "execute_result"
    }
   ],
   "source": [
    "#21 Write a Python function using NumPy to create an array of integers within a specified range (inclusive)\n",
    "#with a given step size.\n",
    "np.arange(2, 20, 2)"
   ]
  },
  {
   "cell_type": "code",
   "execution_count": null,
   "metadata": {},
   "outputs": [
    {
     "data": {
      "text/plain": [
       "array([0.        , 0.11111111, 0.22222222, 0.33333333, 0.44444444,\n",
       "       0.55555556, 0.66666667, 0.77777778, 0.88888889, 1.        ])"
      ]
     },
     "execution_count": 150,
     "metadata": {},
     "output_type": "execute_result"
    }
   ],
   "source": [
    "#22 Write a Python function using NumPy to generate an array of 10 equally spaced values between 0 and 1  (inclusive)\n",
    "arr=np.linspace(0,1,10)\n",
    "arr"
   ]
  },
  {
   "cell_type": "code",
   "execution_count": null,
   "metadata": {},
   "outputs": [
    {
     "name": "stdout",
     "output_type": "stream",
     "text": [
      "B\n",
      " [5.00000000e+000 1.84811328e+175             inf             inf\n",
      "             inf]\n",
      "B\n",
      " [1.00000000e+001 5.62341325e+250             inf             inf\n",
      "             inf]\n",
      "B\n",
      " [         10 -2147483648 -2147483648 -2147483648 -2147483648]\n"
     ]
    },
    {
     "name": "stderr",
     "output_type": "stream",
     "text": [
      "C:\\Users\\dyada\\AppData\\Local\\Packages\\PythonSoftwareFoundation.Python.3.12_qbz5n2kfra8p0\\LocalCache\\local-packages\\Python312\\site-packages\\numpy\\core\\function_base.py:298: RuntimeWarning: overflow encountered in power\n",
      "  return _nx.power(base, y)\n",
      "C:\\Users\\dyada\\AppData\\Local\\Packages\\PythonSoftwareFoundation.Python.3.12_qbz5n2kfra8p0\\LocalCache\\local-packages\\Python312\\site-packages\\numpy\\core\\function_base.py:299: RuntimeWarning: overflow encountered in power\n",
      "  return _nx.power(base, y).astype(dtype, copy=False)\n",
      "C:\\Users\\dyada\\AppData\\Local\\Packages\\PythonSoftwareFoundation.Python.3.12_qbz5n2kfra8p0\\LocalCache\\local-packages\\Python312\\site-packages\\numpy\\core\\function_base.py:299: RuntimeWarning: invalid value encountered in cast\n",
      "  return _nx.power(base, y).astype(dtype, copy=False)\n"
     ]
    }
   ],
   "source": [
    "#23  Write a Python function using NumPy to create an array of 5 logarithmically spaced values between 1 and\n",
    "#1000 (inclusive).\n",
    "print(\"B\\n\", np.logspace(1,1000, num=5, base = 5))\n",
    " \n",
    "# base = 5\n",
    "print(\"B\\n\", np.logspace(1,1000, num=5))\n",
    " \n",
    "# base = 5, dtype = int\n",
    "print(\"B\\n\", np.logspace(1,1000, num=5, dtype = int))"
   ]
  },
  {
   "cell_type": "code",
   "execution_count": null,
   "metadata": {},
   "outputs": [
    {
     "name": "stdout",
     "output_type": "stream",
     "text": [
      "   random_no_1  random_no_2  random_no_3\n",
      "0           11           78           73\n",
      "1           14            4           56\n",
      "2           95           37           97\n",
      "3            3            7           69\n",
      "4           25            1           19\n"
     ]
    }
   ],
   "source": [
    "#24 Create a Pandas DataFrame using a NumPy array that contains 5 rows and 3 columns, where the values\n",
    "#are random integers between 1 and 100.\n",
    "import pandas as pd\n",
    "data = np.random.randint(1, 100, size=(5, 3))\n",
    "df = pd.DataFrame(data, columns=['random_no_1',\n",
    "                                 'random_no_2',\n",
    "                                 'random_no_3'])\n",
    "print(df)"
   ]
  },
  {
   "cell_type": "code",
   "execution_count": null,
   "metadata": {},
   "outputs": [
    {
     "name": "stdout",
     "output_type": "stream",
     "text": [
      "original array:\n"
     ]
    },
    {
     "data": {
      "text/html": [
       "<div>\n",
       "<style scoped>\n",
       "    .dataframe tbody tr th:only-of-type {\n",
       "        vertical-align: middle;\n",
       "    }\n",
       "\n",
       "    .dataframe tbody tr th {\n",
       "        vertical-align: top;\n",
       "    }\n",
       "\n",
       "    .dataframe thead th {\n",
       "        text-align: right;\n",
       "    }\n",
       "</style>\n",
       "<table border=\"1\" class=\"dataframe\">\n",
       "  <thead>\n",
       "    <tr style=\"text-align: right;\">\n",
       "      <th></th>\n",
       "      <th>A</th>\n",
       "      <th>B</th>\n",
       "      <th>C</th>\n",
       "      <th>D</th>\n",
       "    </tr>\n",
       "  </thead>\n",
       "  <tbody>\n",
       "    <tr>\n",
       "      <th>0</th>\n",
       "      <td>1</td>\n",
       "      <td>3</td>\n",
       "      <td>-4</td>\n",
       "      <td>34</td>\n",
       "    </tr>\n",
       "    <tr>\n",
       "      <th>1</th>\n",
       "      <td>2</td>\n",
       "      <td>-5</td>\n",
       "      <td>5</td>\n",
       "      <td>5</td>\n",
       "    </tr>\n",
       "    <tr>\n",
       "      <th>2</th>\n",
       "      <td>-3</td>\n",
       "      <td>-6</td>\n",
       "      <td>6</td>\n",
       "      <td>32</td>\n",
       "    </tr>\n",
       "    <tr>\n",
       "      <th>3</th>\n",
       "      <td>4</td>\n",
       "      <td>7</td>\n",
       "      <td>-7</td>\n",
       "      <td>-3</td>\n",
       "    </tr>\n",
       "    <tr>\n",
       "      <th>4</th>\n",
       "      <td>-5</td>\n",
       "      <td>3</td>\n",
       "      <td>5</td>\n",
       "      <td>-56</td>\n",
       "    </tr>\n",
       "    <tr>\n",
       "      <th>5</th>\n",
       "      <td>6</td>\n",
       "      <td>-2</td>\n",
       "      <td>4</td>\n",
       "      <td>-54</td>\n",
       "    </tr>\n",
       "  </tbody>\n",
       "</table>\n",
       "</div>"
      ],
      "text/plain": [
       "   A  B  C   D\n",
       "0  1  3 -4  34\n",
       "1  2 -5  5   5\n",
       "2 -3 -6  6  32\n",
       "3  4  7 -7  -3\n",
       "4 -5  3  5 -56\n",
       "5  6 -2  4 -54"
      ]
     },
     "execution_count": 166,
     "metadata": {},
     "output_type": "execute_result"
    }
   ],
   "source": [
    "#25  Write a function that takes a Pandas DataFrame and replaces all negative values in a specific column\n",
    "#with zeros. Use NumPy operations within the Pandas DataFrame.\n",
    "df = pd.DataFrame({\"A\": [1, 2, -3, 4, -5, 6], \n",
    "                   \"B\": [3, -5, -6, 7, 3, -2], \n",
    "                   \"C\": [-4, 5, 6, -7, 5, 4], \n",
    "                   \"D\": [34, 5, 32, -3, -56, -54]}) \n",
    "print(\"original array:\",)\n",
    "df"
   ]
  },
  {
   "cell_type": "code",
   "execution_count": null,
   "metadata": {},
   "outputs": [
    {
     "name": "stdout",
     "output_type": "stream",
     "text": [
      "New Array :\n"
     ]
    },
    {
     "data": {
      "text/html": [
       "<div>\n",
       "<style scoped>\n",
       "    .dataframe tbody tr th:only-of-type {\n",
       "        vertical-align: middle;\n",
       "    }\n",
       "\n",
       "    .dataframe tbody tr th {\n",
       "        vertical-align: top;\n",
       "    }\n",
       "\n",
       "    .dataframe thead th {\n",
       "        text-align: right;\n",
       "    }\n",
       "</style>\n",
       "<table border=\"1\" class=\"dataframe\">\n",
       "  <thead>\n",
       "    <tr style=\"text-align: right;\">\n",
       "      <th></th>\n",
       "      <th>A</th>\n",
       "      <th>B</th>\n",
       "      <th>C</th>\n",
       "      <th>D</th>\n",
       "    </tr>\n",
       "  </thead>\n",
       "  <tbody>\n",
       "    <tr>\n",
       "      <th>0</th>\n",
       "      <td>1</td>\n",
       "      <td>3</td>\n",
       "      <td>0</td>\n",
       "      <td>34</td>\n",
       "    </tr>\n",
       "    <tr>\n",
       "      <th>1</th>\n",
       "      <td>2</td>\n",
       "      <td>0</td>\n",
       "      <td>5</td>\n",
       "      <td>5</td>\n",
       "    </tr>\n",
       "    <tr>\n",
       "      <th>2</th>\n",
       "      <td>0</td>\n",
       "      <td>0</td>\n",
       "      <td>6</td>\n",
       "      <td>32</td>\n",
       "    </tr>\n",
       "    <tr>\n",
       "      <th>3</th>\n",
       "      <td>4</td>\n",
       "      <td>7</td>\n",
       "      <td>0</td>\n",
       "      <td>0</td>\n",
       "    </tr>\n",
       "    <tr>\n",
       "      <th>4</th>\n",
       "      <td>0</td>\n",
       "      <td>3</td>\n",
       "      <td>5</td>\n",
       "      <td>0</td>\n",
       "    </tr>\n",
       "    <tr>\n",
       "      <th>5</th>\n",
       "      <td>6</td>\n",
       "      <td>0</td>\n",
       "      <td>4</td>\n",
       "      <td>0</td>\n",
       "    </tr>\n",
       "  </tbody>\n",
       "</table>\n",
       "</div>"
      ],
      "text/plain": [
       "   A  B  C   D\n",
       "0  1  3  0  34\n",
       "1  2  0  5   5\n",
       "2  0  0  6  32\n",
       "3  4  7  0   0\n",
       "4  0  3  5   0\n",
       "5  6  0  4   0"
      ]
     },
     "execution_count": 167,
     "metadata": {},
     "output_type": "execute_result"
    }
   ],
   "source": [
    "# checking the element is < 0 \n",
    "df[df < 0] = 0\n",
    "print(\"New Array :\") \n",
    "df "
   ]
  },
  {
   "cell_type": "code",
   "execution_count": null,
   "metadata": {},
   "outputs": [
    {
     "data": {
      "text/plain": [
       "40"
      ]
     },
     "execution_count": 169,
     "metadata": {},
     "output_type": "execute_result"
    }
   ],
   "source": [
    "#26 Access the 3rd element from the given NumPy array.\n",
    "arr = np.array([10, 20, 30, 40, 50])\n",
    "arr[3]"
   ]
  },
  {
   "cell_type": "code",
   "execution_count": null,
   "metadata": {},
   "outputs": [
    {
     "name": "stdout",
     "output_type": "stream",
     "text": [
      "[11 13 15]\n"
     ]
    }
   ],
   "source": [
    "#27 Retrieve the element at index (1, 2) from the 2D NumPy array.\n",
    "arr_2d = np.array([[1, 2, 3],\n",
    "                   [4, 5, 6],\n",
    "                   [7, 8, 9]])\n",
    "print(arr_2d[1]+ arr_2d[2])"
   ]
  },
  {
   "cell_type": "code",
   "execution_count": null,
   "metadata": {},
   "outputs": [
    {
     "name": "stdout",
     "output_type": "stream",
     "text": [
      "[ 8 10  7]\n"
     ]
    }
   ],
   "source": [
    "#28 Using boolean indexing, extract elements greater than 5 from the given NumPy array.\n",
    "arr = np.array([3, 8, 2, 10, 5, 7])\n",
    "mask= arr>5\n",
    "mask\n",
    "#Boolean indexing\n",
    "filtered_arr= arr[mask]\n",
    "print(filtered_arr)\n"
   ]
  },
  {
   "cell_type": "code",
   "execution_count": null,
   "metadata": {},
   "outputs": [
    {
     "name": "stdout",
     "output_type": "stream",
     "text": [
      "[3 4 5 6]\n"
     ]
    }
   ],
   "source": [
    "#29 Perform basic slicing to extract elements from index 2 to 5 (inclusive) from the given NumPy array.\n",
    "arr = np.array([1, 2, 3, 4, 5, 6, 7, 8, 9])\n",
    "print(arr[2:6])"
   ]
  },
  {
   "cell_type": "code",
   "execution_count": null,
   "metadata": {},
   "outputs": [
    {
     "name": "stdout",
     "output_type": "stream",
     "text": [
      "[[2 3]\n",
      " [5 6]]\n"
     ]
    }
   ],
   "source": [
    "#30 Slice the 2D NumPy array to extract the sub-array `[[2, 3], [5, 6]]` from the given array.\n",
    "arr_2d = np.array([[1, 2, 3],\n",
    "                   [4, 5, 6],\n",
    "                   [7, 8, 9]])\n",
    "sub_matrix= arr_2d[0:2,1:3]\n",
    "print(sub_matrix)"
   ]
  },
  {
   "cell_type": "code",
   "execution_count": null,
   "metadata": {},
   "outputs": [
    {
     "data": {
      "text/plain": [
       "array([[1, 2],\n",
       "       [3, 4]])"
      ]
     },
     "execution_count": 200,
     "metadata": {},
     "output_type": "execute_result"
    }
   ],
   "source": [
    "#31 Write a NumPy function to extract elements in specific order from a given 2D array based on indices\n",
    "#provided in another array.\n",
    "input = np.array([[1,2],[3,4]])\n",
    "input"
   ]
  },
  {
   "cell_type": "code",
   "execution_count": null,
   "metadata": {},
   "outputs": [
    {
     "data": {
      "text/plain": [
       "array([[0],\n",
       "       [1]])"
      ]
     },
     "execution_count": 201,
     "metadata": {},
     "output_type": "execute_result"
    }
   ],
   "source": [
    "indices = np.array([[0],[1]])\n",
    "indices"
   ]
  },
  {
   "cell_type": "code",
   "execution_count": null,
   "metadata": {},
   "outputs": [
    {
     "name": "stdout",
     "output_type": "stream",
     "text": [
      "[[1]\n",
      " [4]]\n"
     ]
    }
   ],
   "source": [
    "res = input[np.arange(input.shape[0])[:, None], indices]\n",
    "print(res)"
   ]
  },
  {
   "cell_type": "code",
   "execution_count": null,
   "metadata": {},
   "outputs": [
    {
     "name": "stdout",
     "output_type": "stream",
     "text": [
      "[12 15]\n"
     ]
    }
   ],
   "source": [
    "#32 Create a NumPy function that filters elements greater than a threshold from a given 1D array using\n",
    "#boolean indexing. \n",
    "arr = np.array([3, 8, 12, 10, 15, 7])\n",
    "mask= arr>10\n",
    "mask\n",
    "#Boolean indexing\n",
    "filtered_arr= arr[mask]\n",
    "print(filtered_arr)"
   ]
  },
  {
   "cell_type": "code",
   "execution_count": null,
   "metadata": {},
   "outputs": [
    {
     "data": {
      "text/plain": [
       "array([[[  0,   1,   2,   3,   4],\n",
       "        [  5,   6,   7,   8,   9],\n",
       "        [ 10,  11,  12,  13,  14],\n",
       "        [ 15,  16,  17,  18,  19],\n",
       "        [ 20,  21,  22,  23,  24]],\n",
       "\n",
       "       [[ 25,  26,  27,  28,  29],\n",
       "        [ 30,  31,  32,  33,  34],\n",
       "        [ 35,  36,  37,  38,  39],\n",
       "        [ 40,  41,  42,  43,  44],\n",
       "        [ 45,  46,  47,  48,  49]],\n",
       "\n",
       "       [[ 50,  51,  52,  53,  54],\n",
       "        [ 55,  56,  57,  58,  59],\n",
       "        [ 60,  61,  62,  63,  64],\n",
       "        [ 65,  66,  67,  68,  69],\n",
       "        [ 70,  71,  72,  73,  74]],\n",
       "\n",
       "       [[ 75,  76,  77,  78,  79],\n",
       "        [ 80,  81,  82,  83,  84],\n",
       "        [ 85,  86,  87,  88,  89],\n",
       "        [ 90,  91,  92,  93,  94],\n",
       "        [ 95,  96,  97,  98,  99]],\n",
       "\n",
       "       [[100, 101, 102, 103, 104],\n",
       "        [105, 106, 107, 108, 109],\n",
       "        [110, 111, 112, 113, 114],\n",
       "        [115, 116, 117, 118, 119],\n",
       "        [120, 121, 122, 123, 124]]])"
      ]
     },
     "execution_count": 210,
     "metadata": {},
     "output_type": "execute_result"
    }
   ],
   "source": [
    "#33 Develop a NumPy function that extracts specific elements from a 3D array using indices provided in three\n",
    "#separate arrays for each dimension.\n",
    "import numpy as np\n",
    "data = np.arange(125).reshape(5,5,5)\n",
    "data\n"
   ]
  },
  {
   "cell_type": "code",
   "execution_count": null,
   "metadata": {},
   "outputs": [
    {
     "data": {
      "text/plain": [
       "array([  0, 124,   4])"
      ]
     },
     "execution_count": 211,
     "metadata": {},
     "output_type": "execute_result"
    }
   ],
   "source": [
    "indices = np.array(((0, 0, 0), (4, 4, 4), (0, 0, 4)), dtype=int)\n",
    "data[tuple(indices.T)]"
   ]
  },
  {
   "cell_type": "code",
   "execution_count": null,
   "metadata": {},
   "outputs": [
    {
     "name": "stdout",
     "output_type": "stream",
     "text": [
      "[10 12 11 14 13 15 17 16 18]\n"
     ]
    }
   ],
   "source": [
    "#34 Write a NumPy function that returns elements from an array where both two conditions are satisfied\n",
    "#using boolean indexing.\n",
    "data=np.array([10,2,12,11,14,13,15,17,16,18,9])\n",
    "mask= data>=10\n",
    "mask\n",
    "\n",
    "#Boolean indexing\n",
    "filtered_data= data[mask]\n",
    "print(filtered_data)"
   ]
  },
  {
   "cell_type": "code",
   "execution_count": null,
   "metadata": {},
   "outputs": [
    {
     "name": "stdout",
     "output_type": "stream",
     "text": [
      "[[1]\n",
      " [4]]\n"
     ]
    }
   ],
   "source": [
    "#35 Create a NumPy function that extracts elements from a 2D array using row and column indices provided\n",
    "# in separate arrays. \n",
    "A = np.array([[1,2],[3,4]])\n",
    "idx = np.array([[0],[1]])\n",
    "\n",
    "res = A[np.arange(A.shape[0])[:, None], idx]\n",
    "\n",
    "print(res)\n"
   ]
  },
  {
   "cell_type": "code",
   "execution_count": null,
   "metadata": {},
   "outputs": [
    {
     "data": {
      "text/plain": [
       "array([ 8, 10, 11, 13, 17, 15, 16, 20, 12])"
      ]
     },
     "execution_count": 276,
     "metadata": {},
     "output_type": "execute_result"
    }
   ],
   "source": [
    "#36 Given an array arr of shape (3, 3), add a scalar value of 5 to each element using NumPy broadcasting.\n",
    "arr = np.array([3,5,6, 8, 12, 10,11, 15, 7])\n",
    "arr.reshape(3,3)\n",
    "arr+5"
   ]
  },
  {
   "cell_type": "code",
   "execution_count": null,
   "metadata": {},
   "outputs": [
    {
     "data": {
      "text/plain": [
       "array([[ 24, 144,  36,  48],\n",
       "       [115, 138, 161, 184],\n",
       "       [306, 340, 408, 442]])"
      ]
     },
     "execution_count": 288,
     "metadata": {},
     "output_type": "execute_result"
    }
   ],
   "source": [
    "#37 Consider two arrays arr1 of shape (1, 3) and arr2 of shape (3, 4). Multiply each row of arr2 by the\n",
    "#corresponding element in arr1 using NumPy broadcasting.\n",
    "\n",
    "arr1=np.array([12,23,34])\n",
    "arr2= np.array([2,12,3,4,5,6,7,8,9,10,12,13])\n",
    "arr2_reshape= arr2.reshape(3,4)\n",
    "arr1_reshape=arr1.reshape(3,1)\n",
    "arr1_reshape*arr2_reshape"
   ]
  },
  {
   "cell_type": "code",
   "execution_count": null,
   "metadata": {},
   "outputs": [
    {
     "data": {
      "text/plain": [
       "array([[14, 24, 15],\n",
       "       [27, 28, 29],\n",
       "       [41, 42, 43],\n",
       "       [23, 25, 26]])"
      ]
     },
     "execution_count": 289,
     "metadata": {},
     "output_type": "execute_result"
    }
   ],
   "source": [
    "#38 Given a 1D array arr1 of shape (1, 4) and a 2D array arr2 of shape (4, 3), add arr1 to each row of arr2 using\n",
    "#NumPy broadcasting.\n",
    "arr1=np.array([12,23,34,13])\n",
    "arr2= np.array([2,12,3,4,5,6,7,8,9,10,12,13])\n",
    "arr2_reshape= arr2.reshape(4,3)\n",
    "arr1_reshape=arr1.reshape(4,1)\n",
    "arr1_reshape+arr2_reshape"
   ]
  },
  {
   "cell_type": "code",
   "execution_count": null,
   "metadata": {},
   "outputs": [
    {
     "data": {
      "text/plain": [
       "array([[14, 24, 35],\n",
       "       [25, 35, 46],\n",
       "       [36, 46, 57]])"
      ]
     },
     "execution_count": 290,
     "metadata": {},
     "output_type": "execute_result"
    }
   ],
   "source": [
    "#39 Consider two arrays arr1 of shape (3, 1) and arr2 of shape (1, 3). Add these arrays using NumPy broadcasting.\n",
    "arr1=np.array([12,23,34])\n",
    "arr2= np.array([2,12,23])\n",
    "arr2_reshape= arr2.reshape(1,3)\n",
    "arr1_reshape=arr1.reshape(3,1)\n",
    "arr1_reshape+arr2_reshape"
   ]
  },
  {
   "cell_type": "code",
   "execution_count": null,
   "metadata": {},
   "outputs": [
    {
     "data": {
      "text/plain": [
       "array([[ 24, 120, 144, 276],\n",
       "       [ 46, 230, 276, 529],\n",
       "       [ 68, 340, 408, 782],\n",
       "       [ 26, 130, 156, 299],\n",
       "       [ 32, 160, 192, 368],\n",
       "       [ 40, 200, 240, 460]])"
      ]
     },
     "execution_count": 301,
     "metadata": {},
     "output_type": "execute_result"
    }
   ],
   "source": [
    "#40 Given arrays arr1 of shape (2, 3) and arr2 of shape (2, 2), perform multiplication using NumPy\n",
    "#broadcasting. Handle the shape incompatibility.\n",
    "arr1=np.array([12,23,34,13,16,20])\n",
    "arr2= np.array([2,10,12,23])\n",
    "arr2_reshape= arr2.reshape(2,2)\n",
    "arr1_reshape=arr1.reshape(2,3)\n",
    "#arr1_reshape*arr2_reshape\n",
    "Result = np.multiply.outer(arr1,arr2)\n",
    "Result"
   ]
  },
  {
   "cell_type": "code",
   "execution_count": null,
   "metadata": {},
   "outputs": [
    {
     "name": "stdout",
     "output_type": "stream",
     "text": [
      "[1.5 3.5 5.5]\n"
     ]
    }
   ],
   "source": [
    "#41 Calculate column wise mean for the given array:\n",
    "arr = np.array([[1, 2, 3], [4, 5, 6]])\n",
    "result = np.mean(arr.reshape((3, 2)), axis=1)\n",
    "print(result)\n"
   ]
  },
  {
   "cell_type": "code",
   "execution_count": null,
   "metadata": {},
   "outputs": [
    {
     "data": {
      "text/plain": [
       "array([3, 6])"
      ]
     },
     "execution_count": 304,
     "metadata": {},
     "output_type": "execute_result"
    }
   ],
   "source": [
    "#42 . Find maximum value in each row of the given array:\n",
    "arr = np.array([[1, 2, 3], [4, 5, 6]])\n",
    "np.max(arr,1)\n"
   ]
  },
  {
   "cell_type": "code",
   "execution_count": null,
   "metadata": {},
   "outputs": [
    {
     "data": {
      "text/plain": [
       "array([4, 5, 6])"
      ]
     },
     "execution_count": 305,
     "metadata": {},
     "output_type": "execute_result"
    }
   ],
   "source": [
    "#43 For the given array, find indices of maximum value in each column.\n",
    "arr = np.array([[1, 2, 3], [4, 5, 6]])\n",
    "np.max(arr,0)"
   ]
  },
  {
   "cell_type": "code",
   "execution_count": null,
   "metadata": {},
   "outputs": [
    {
     "name": "stdout",
     "output_type": "stream",
     "text": [
      "[ 6 15]\n"
     ]
    }
   ],
   "source": [
    "#44  For the given array, apply custom function to calculate moving sum along rows.\n",
    "arr = np.array([[1, 2, 3], [4, 5, 6]])\n",
    "print(np.sum(arr,axis=1))"
   ]
  },
  {
   "cell_type": "code",
   "execution_count": null,
   "metadata": {},
   "outputs": [
    {
     "name": "stdout",
     "output_type": "stream",
     "text": [
      "[2 4 6]\n"
     ]
    }
   ],
   "source": [
    "#45  In the given array, check if all elements in each column are even.\n",
    "arr = np.array([[2, 4, 6], [3, 5, 7]])\n",
    "print(arr[arr % 2 == 0])"
   ]
  },
  {
   "cell_type": "code",
   "execution_count": null,
   "metadata": {},
   "outputs": [
    {
     "data": {
      "text/plain": [
       "array([[1, 2, 3],\n",
       "       [4, 5, 6]])"
      ]
     },
     "execution_count": 323,
     "metadata": {},
     "output_type": "execute_result"
    }
   ],
   "source": [
    "#46  Given a NumPy array arr, reshape it into a matrix of dimensions `m` rows and `n` columns. Return the\n",
    "#reshaped matrix.\n",
    "original_array = np.array([1, 2, 3, 4, 5, 6])\n",
    "original_array.reshape(2,3)"
   ]
  },
  {
   "cell_type": "code",
   "execution_count": null,
   "metadata": {},
   "outputs": [
    {
     "data": {
      "text/plain": [
       "array([1, 2, 3, 4, 5, 6])"
      ]
     },
     "execution_count": 324,
     "metadata": {},
     "output_type": "execute_result"
    }
   ],
   "source": [
    "#47 Create a function that takes a matrix as input and returns the flattened array\n",
    "input_matrix = np.array([[1, 2, 3], [4, 5, 6]])\n",
    "input_matrix.flatten()"
   ]
  },
  {
   "cell_type": "code",
   "execution_count": null,
   "metadata": {},
   "outputs": [
    {
     "data": {
      "text/plain": [
       "array([[1, 2],\n",
       "       [3, 4],\n",
       "       [5, 6],\n",
       "       [7, 8]])"
      ]
     },
     "execution_count": 325,
     "metadata": {},
     "output_type": "execute_result"
    }
   ],
   "source": [
    "#48 Write a function that concatenates two given arrays along a specified axis.\n",
    "array1 = np.array([[1, 2], [3, 4]])\n",
    "array2 = np.array([[5, 6], [7, 8]])\n",
    "np.concatenate((array1,array2),axis=0)"
   ]
  },
  {
   "cell_type": "code",
   "execution_count": null,
   "metadata": {},
   "outputs": [
    {
     "data": {
      "text/plain": [
       "[array([[1, 2, 3]]), array([[4, 5, 6]]), array([[7, 8, 9]])]"
      ]
     },
     "execution_count": 337,
     "metadata": {},
     "output_type": "execute_result"
    }
   ],
   "source": [
    "#49 Create a function that splits an array into multiple sub-arrays along a specified axis\n",
    "original_array = np.array([[1, 2, 3], [4, 5, 6], [7, 8, 9]])\n",
    "np.split(original_array,3)"
   ]
  },
  {
   "cell_type": "code",
   "execution_count": 35,
   "metadata": {},
   "outputs": [
    {
     "name": "stdout",
     "output_type": "stream",
     "text": [
      "[43, 45, 500, 99, 76]\n",
      "[43, 45, 99, 76]\n"
     ]
    }
   ],
   "source": [
    "# 50 Write a function that inserts and then deletes elements from a given array at specified indices.\n",
    "score = [43,45,99,76] \n",
    "#inserting a new score at third position \n",
    "score.insert(2, 500) \n",
    "#printing new list \n",
    "print(score)\n",
    "score.remove(500)\n",
    "print(score)"
   ]
  },
  {
   "cell_type": "code",
   "execution_count": 415,
   "metadata": {},
   "outputs": [
    {
     "name": "stdout",
     "output_type": "stream",
     "text": [
      "[13 13 37 27 61 13 15 17 19 11]\n"
     ]
    }
   ],
   "source": [
    "#51 Create a NumPy array `arr1` with random integers and another array `arr2` with integers from 1 to 10.\n",
    "#Perform element-wise addition between `arr1` and `arr2`.\n",
    "arr1=np.array([12,11,34,23,56,7,8,9,10,1])\n",
    "arr2=np.array([1,2,3,4,5,6,7,8,9,10])\n",
    "x=arr1.reshape(10,1)\n",
    "y=arr2.reshape(10,1)\n",
    "z=np.add(arr1,arr2)\n",
    "print(z)\n"
   ]
  },
  {
   "cell_type": "code",
   "execution_count": 416,
   "metadata": {},
   "outputs": [
    {
     "name": "stdout",
     "output_type": "stream",
     "text": [
      "[11  9 31 19 51  1  1  1  1 -9]\n"
     ]
    }
   ],
   "source": [
    "#52 Generate a NumPy array `arr1` with sequential integers from 10 to 1 and another array `arr2` with integers\n",
    "#from 1 to 10. Subtract `arr2` from `arr1` element-wise.\n",
    "arr1=np.array([12,11,34,23,56,7,8,9,10,1])\n",
    "arr2=np.array([1,2,3,4,5,6,7,8,9,10])\n",
    "x=arr1.reshape(10,1)\n",
    "y=arr2.reshape(1,10)\n",
    "z=np.subtract(arr1,arr2)\n",
    "print(z)"
   ]
  },
  {
   "cell_type": "code",
   "execution_count": 417,
   "metadata": {},
   "outputs": [
    {
     "data": {
      "text/plain": [
       "array([ 23,  24, 168, 180, 340])"
      ]
     },
     "execution_count": 417,
     "metadata": {},
     "output_type": "execute_result"
    }
   ],
   "source": [
    "#53 Create a NumPy array `arr1` with random integers and another array `arr2` with integers from 1 to 5.\n",
    "#Perform element-wise multiplication between `arr1` and `arr2\n",
    "arr1= np.array([23,12,56,45,68])\n",
    "arr2= np.array([1,2,3,4,5])\n",
    "arr1*arr2"
   ]
  },
  {
   "cell_type": "code",
   "execution_count": 429,
   "metadata": {},
   "outputs": [
    {
     "name": "stdout",
     "output_type": "stream",
     "text": [
      "[ 2  4  6  8 10]\n",
      "[2. 2. 2. 2. 2.]\n"
     ]
    }
   ],
   "source": [
    "#54 Generate a NumPy array `arr1` with even integers from 2 to 10 and another array `arr2` with integers from 1\n",
    "#to 5. Perform element-wise division of `arr1` by `arr2`.\n",
    "arr=np.array([2,3,4,5,6,7,8,9,10])\n",
    "arr=arr[arr%2 == 0] \n",
    "arr1=print(arr)\n",
    "arr1=np.array([2,4,6,8,10])\n",
    "arr2=np.array([1,2,3,4,5])\n",
    "\n",
    "print(arr1/arr2)\n"
   ]
  },
  {
   "cell_type": "code",
   "execution_count": 430,
   "metadata": {},
   "outputs": [
    {
     "data": {
      "text/plain": [
       "array([ 1, 16, 27, 16,  5])"
      ]
     },
     "execution_count": 430,
     "metadata": {},
     "output_type": "execute_result"
    }
   ],
   "source": [
    "#55 Create a NumPy array `arr1` with integers from 1 to 5 and another array `arr2` with the same numbers\n",
    "#reversed. Calculate the exponentiation of `arr1` raised to the power of `arr2` element-wise.\n",
    "arr1=np.array([1,2,3,4,5])\n",
    "arr2=np.array([5,4,3,2,1])\n",
    "np.power(arr1,arr2)"
   ]
  },
  {
   "cell_type": "code",
   "execution_count": 441,
   "metadata": {},
   "outputs": [
    {
     "name": "stdout",
     "output_type": "stream",
     "text": [
      "[1 0 1 0 1]\n"
     ]
    }
   ],
   "source": [
    "#56 Write a function that counts the occurrences of a specific substring within a NumPy array of strings.\n",
    "arr = np.array(['hello', 'world', 'hello', 'numpy', 'hello'])\n",
    "count = np.char.count(arr, sub ='hello') \n",
    "print(count)"
   ]
  },
  {
   "cell_type": "code",
   "execution_count": 443,
   "metadata": {},
   "outputs": [
    {
     "name": "stdout",
     "output_type": "stream",
     "text": [
      "input array :  ['Hello' 'World' 'OpenAI' 'GPT']\n",
      "output uppercased array : ['HELLO' 'WORLD' 'OPENAI' 'GPT']\n"
     ]
    }
   ],
   "source": [
    "#57 Write a function that extracts uppercase characters from a NumPy array of strings.\n",
    "arr = np.array(['Hello', 'World', 'OpenAI', 'GPT'])\n",
    "print (\"input array : \", arr) \n",
    "  \n",
    "out_arr = np.char.upper(arr) \n",
    "print (\"output uppercased array :\", out_arr) "
   ]
  },
  {
   "cell_type": "code",
   "execution_count": 450,
   "metadata": {},
   "outputs": [
    {
     "name": "stdout",
     "output_type": "stream",
     "text": [
      "['mango' 'banana' 'grape' 'pinemango']\n"
     ]
    }
   ],
   "source": [
    "#58 Write a function that replaces occurrences of a substring in a NumPy array of strings with a new string.\n",
    "arr = np.array(['apple', 'banana', 'grape', 'pineapple'])\n",
    "s1=\"apple\"\n",
    "s2= \"mango\"\n",
    "arr1=np.char.replace(arr,\"apple\",\"mango\")\n",
    "print(arr1)"
   ]
  },
  {
   "cell_type": "code",
   "execution_count": 457,
   "metadata": {},
   "outputs": [
    {
     "data": {
      "text/plain": [
       "array(['HelloOpen', 'WorldAI'], dtype='<U9')"
      ]
     },
     "execution_count": 457,
     "metadata": {},
     "output_type": "execute_result"
    }
   ],
   "source": [
    "#59 Write a function that concatenates strings in a NumPy array element-wise.\n",
    "arr1 = np.array(['Hello', 'World'])\n",
    "arr2 = np.array(['Open', 'AI'])\n",
    "result=np.char.add(arr1 , arr2)\n",
    "result"
   ]
  },
  {
   "cell_type": "code",
   "execution_count": 458,
   "metadata": {},
   "outputs": [
    {
     "name": "stdout",
     "output_type": "stream",
     "text": [
      "pineapple\n"
     ]
    }
   ],
   "source": [
    "#60 Write a function that finds the length of the longest string in a NumPy array.\n",
    "\n",
    "arr = np.array(['apple', 'banana', 'grape', 'pineapple'])\n",
    "print(max(arr, key=len))"
   ]
  },
  {
   "cell_type": "code",
   "execution_count": 487,
   "metadata": {},
   "outputs": [
    {
     "name": "stdout",
     "output_type": "stream",
     "text": [
      "Dataset: [117, 699, 516, 529, 495, 45, 635, 373, 864, 82, 877, 119, 906, 444, 611, 22, 812, 913, 412, 893, 77, 156, 139, 947, 713, 862, 335, 326, 438, 474, 369, 912, 764, 202, 481, 350, 750, 671, 761, 150, 524, 76, 776, 308, 234, 446, 594, 828, 133, 320, 905, 25, 44, 32, 972, 632, 504, 739, 486, 274, 394, 39, 935, 190, 736, 595, 576, 451, 678, 817, 839, 867, 177, 114, 410, 176, 91, 349, 557, 715, 890, 86, 262, 626, 264, 587, 160, 400, 954, 706, 472, 416, 708, 397, 965, 6, 882, 606, 974, 897]\n",
      "mean of dataset: 500.57\n",
      "median: 490.5\n",
      "varianve: 86589.8051\n",
      "standard deviation: [117, 699, 516, 529, 495, 45, 635, 373, 864, 82, 877, 119, 906, 444, 611, 22, 812, 913, 412, 893, 77, 156, 139, 947, 713, 862, 335, 326, 438, 474, 369, 912, 764, 202, 481, 350, 750, 671, 761, 150, 524, 76, 776, 308, 234, 446, 594, 828, 133, 320, 905, 25, 44, 32, 972, 632, 504, 739, 486, 274, 394, 39, 935, 190, 736, 595, 576, 451, 678, 817, 839, 867, 177, 114, 410, 176, 91, 349, 557, 715, 890, 86, 262, 626, 264, 587, 160, 400, 954, 706, 472, 416, 708, 397, 965, 6, 882, 606, 974, 897]\n"
     ]
    }
   ],
   "source": [
    "#61 Create a dataset of 100 random integers between 1 and 1000. Compute the mean, median, variance, and\n",
    "#standard deviation of the dataset using NumPy's functions.\n",
    "import random\n",
    "res = random.sample(range(1, 1000), 100)\n",
    "res\n",
    "print(\"Dataset:\",res)\n",
    "x= np.mean(res)\n",
    "print(\"mean of dataset:\",x)\n",
    "y=np.median(res)\n",
    "print(\"median:\",y)\n",
    "z=np.var(res)\n",
    "print(\"varianve:\", z)\n",
    "z1=np.std(res)\n",
    "print(\"standard deviation:\", res)"
   ]
  },
  {
   "cell_type": "code",
   "execution_count": 499,
   "metadata": {},
   "outputs": [
    {
     "name": "stdout",
     "output_type": "stream",
     "text": [
      "sort num: [ 2  4  5  6  7  9 10 14 17 20 21 23 27 30 32 33 35 36 44 45 48 49 50 51\n",
      " 52 54 56 57 60 63 65 66 70 71 72 73 75 76 79 80 81 86 88 90 91 93 95 96\n",
      " 98 99]\n",
      "25 percentile: 13.25\n",
      "75 percentile: 37.75\n"
     ]
    }
   ],
   "source": [
    "\n",
    "#62 Generate an array of 50 random numbers between 1 and 100. Find the 25th and 75th percentiles of the dataset.\n",
    "arr=random.sample(range(1,100),50)\n",
    "arr\n",
    "x=np.sort(arr)\n",
    "print(\"sort num:\", x)\n",
    "y = (25/100) * (50 - 1) + 1\n",
    "print(\"25 percentile:\", y)\n",
    "z= (75/100) * (50-1)+1\n",
    "print(\"75 percentile:\", z)"
   ]
  },
  {
   "cell_type": "code",
   "execution_count": 509,
   "metadata": {},
   "outputs": [
    {
     "name": "stdout",
     "output_type": "stream",
     "text": [
      "[[0.80476436 0.38747838 0.2883281 ]\n",
      " [0.6824955  0.13975248 0.1999082 ]\n",
      " [0.00736227 0.78692438 0.66485086]]\n",
      "[[0.77395605 0.43887844 0.85859792]\n",
      " [0.69736803 0.09417735 0.97562235]\n",
      " [0.7611397  0.78606431 0.12811363]]\n",
      "[[ 1.         -0.86184364 -0.94832919 -0.2220392  -0.78730963  0.96361399]\n",
      " [-0.86184364  1.          0.97823179  0.68587693  0.99123994 -0.96605107]\n",
      " [-0.94832919  0.97823179  1.          0.51993414  0.94225517 -0.99863367]\n",
      " [-0.2220392   0.68587693  0.51993414  1.          0.77598074 -0.47458546]\n",
      " [-0.78730963  0.99123994  0.94225517  0.77598074  1.         -0.92346708]\n",
      " [ 0.96361399 -0.96605107 -0.99863367 -0.47458546 -0.92346708  1.        ]]\n"
     ]
    }
   ],
   "source": [
    "#63 Create two arrays representing two sets of variables. Compute the correlation coefficient between these\n",
    "#arrays using NumPy's `corrcoef` function.\n",
    "\n",
    "\n",
    "rng= np.random.default_rng(seed=42)\n",
    "xarr = data.random((3, 3))\n",
    "print(xarr)\n",
    "R1 = np.corrcoef(xarr)\n",
    "R1\n",
    "yarr = rng.random((3, 3))\n",
    "print(yarr)\n",
    "R3 = np.corrcoef(xarr, yarr, rowvar=False)\n",
    "print(R3)"
   ]
  },
  {
   "cell_type": "code",
   "execution_count": 512,
   "metadata": {},
   "outputs": [
    {
     "name": "stdout",
     "output_type": "stream",
     "text": [
      "[ 2  3  5 19 18]\n",
      "[10 11 12 13 14]\n"
     ]
    },
    {
     "data": {
      "text/plain": [
       "612"
      ]
     },
     "execution_count": 512,
     "metadata": {},
     "output_type": "execute_result"
    }
   ],
   "source": [
    "#64 Create two matrices and perform matrix multiplication using NumPy's `dot` function.\n",
    "arr1=np.array([2,3,5,19,18])\n",
    "print(arr1)\n",
    "arr2=np.array([10,11,12,13,14])\n",
    "print(arr2)\n",
    "np.dot(arr1,arr2)"
   ]
  },
  {
   "cell_type": "code",
   "execution_count": 530,
   "metadata": {},
   "outputs": [
    {
     "name": "stdout",
     "output_type": "stream",
     "text": [
      "median of 10,50: 600.5\n",
      "90 percentile: 45.1\n"
     ]
    }
   ],
   "source": [
    "#65 Create an array of 50 integers between 10 and 1000. Calculate the 10th, 50th (median), and 90th\n",
    "#percentiles along with the first and third quartiles.\n",
    "\n",
    "arr=random.sample(range(10,1000),50)\n",
    "arr\n",
    "arr1= np.sort(arr)\n",
    "arr1\n",
    "median= (209+992)/2\n",
    "print(\"median of 10,50:\", median)\n",
    "y = (90/100) * (50 - 1) + 1\n",
    "print(\"90 percentile:\", y)\n"
   ]
  },
  {
   "cell_type": "code",
   "execution_count": 531,
   "metadata": {},
   "outputs": [
    {
     "name": "stdout",
     "output_type": "stream",
     "text": [
      "All index value of 3 is:  [2 7]\n",
      "First index value of 3 is:  2\n"
     ]
    }
   ],
   "source": [
    "#66 Create a NumPy array of integers and find the index of a specific element.\n",
    "a = np.array([1, 2, 3, 4, 8, 6, 7, 3, 9, 10])\n",
    " \n",
    "# display index value of 3\n",
    "print(\"All index value of 3 is: \", np.where(a == 3)[0])\n",
    " \n",
    "print(\"First index value of 3 is: \",np.where(a==3)[0][0])"
   ]
  },
  {
   "cell_type": "code",
   "execution_count": 534,
   "metadata": {},
   "outputs": [
    {
     "name": "stdout",
     "output_type": "stream",
     "text": [
      "[53, 85, 54, 40, 59, 30, 7, 39, 22, 82, 55, 23, 24, 1, 73, 52, 79, 61, 94, 98]\n"
     ]
    },
    {
     "data": {
      "text/plain": [
       "array([ 1,  7, 22, 23, 24, 30, 39, 40, 52, 53, 54, 55, 59, 61, 73, 79, 82,\n",
       "       85, 94, 98])"
      ]
     },
     "execution_count": 534,
     "metadata": {},
     "output_type": "execute_result"
    }
   ],
   "source": [
    "#67 Generate a random NumPy array and sort it in ascending order.\n",
    "arr= random.sample(range(1,100),20)\n",
    "print(arr)\n",
    "np.sort(arr)"
   ]
  },
  {
   "cell_type": "code",
   "execution_count": 547,
   "metadata": {},
   "outputs": [
    {
     "name": "stdout",
     "output_type": "stream",
     "text": [
      "[False, True, False, True, False, True]\n",
      "[25 42 30]\n"
     ]
    }
   ],
   "source": [
    "#68  Filter elements >20  in the given NumPy array.\n",
    "arr = np.array([12, 25, 6, 42, 8, 30])\n",
    "filter_arr=[]\n",
    "#axis = 0\n",
    "#print(np.take(arr, filtered_arr, axis))\n",
    "for element in arr:\n",
    "  # if the element is higher than 2, set the value to True, otherwise False:\n",
    "  if element > 20:\n",
    "    filter_arr.append(True)\n",
    "  else:\n",
    "    filter_arr.append(False)\n",
    "\n",
    "newarr = arr[filter_arr]\n",
    "\n",
    "print(filter_arr)\n",
    "print(newarr)"
   ]
  },
  {
   "cell_type": "code",
   "execution_count": 548,
   "metadata": {},
   "outputs": [
    {
     "name": "stdout",
     "output_type": "stream",
     "text": [
      "[12 15]\n"
     ]
    }
   ],
   "source": [
    "#69  Filter elements which are divisible by 3 from a given NumPy array.\n",
    "arr = np.array([1, 5, 8, 12, 15])\n",
    "mask=(arr%3==0)\n",
    "print(arr[mask])"
   ]
  },
  {
   "cell_type": "code",
   "execution_count": 554,
   "metadata": {},
   "outputs": [
    {
     "name": "stdout",
     "output_type": "stream",
     "text": [
      "[False, True, True, True, False]\n",
      "[20 30 40]\n"
     ]
    }
   ],
   "source": [
    "#70 Filter elements which are ≥ 20 and ≤ 40 from a given NumPy array.\n",
    "arr = np.array([10, 20, 30, 40, 50])\n",
    "filter_arr=[]\n",
    "for element in arr:\n",
    "  # if the element is higher than 2, set the value to True, otherwise False:\n",
    "  if element >= 20 and element<=40:\n",
    "    filter_arr.append(True)\n",
    "  else:\n",
    "    filter_arr.append(False)\n",
    "\n",
    "newarr = arr[filter_arr]\n",
    "\n",
    "print(filter_arr)\n",
    "print(newarr)"
   ]
  },
  {
   "cell_type": "code",
   "execution_count": 41,
   "metadata": {},
   "outputs": [
    {
     "data": {
      "text/plain": [
       "True"
      ]
     },
     "execution_count": 41,
     "metadata": {},
     "output_type": "execute_result"
    }
   ],
   "source": [
    "#71 For the given NumPy array, check its byte order using the `dtype` attribute byteorder.\n",
    "dt = np.dtype('i2')\n",
    "dt.byteorder\n",
    "'='\n",
    "# endian is not relevant for 8 bit numbers\n",
    "np.dtype('i1').byteorder\n",
    "'|'\n",
    "# or ASCII strings\n",
    "np.dtype('S2').byteorder\n",
    "'|'\n",
    "# Even if specific code is given, and it is native\n",
    "# '=' is the byteorder\n",
    "import sys\n",
    "sys_is_le = sys.byteorder == 'little'\n",
    "native_code = '<' if sys_is_le else '>'\n",
    "swapped_code = '>' if sys_is_le else '<'\n",
    "dt = np.dtype(native_code + 'i2')\n",
    "dt.byteorder\n",
    "'='\n",
    "# Swapped code shows up as itself\n",
    "dt = np.dtype(swapped_code + 'i2')\n",
    "dt.byteorder == swapped_code"
   ]
  },
  {
   "cell_type": "code",
   "execution_count": 556,
   "metadata": {},
   "outputs": [
    {
     "name": "stdout",
     "output_type": "stream",
     "text": [
      "[ 16777216  33554432  50331648  67108864 134217728 100663296 117440512\n",
      "  50331648 150994944 167772160]\n"
     ]
    }
   ],
   "source": [
    "#72  For the given NumPy array, perform byte swapping in place using `byteswap()`.\n",
    "arr = np.array([1, 2, 3], dtype=np.int32)\n",
    "   \n",
    "print(a.byteswap(True))"
   ]
  },
  {
   "cell_type": "code",
   "execution_count": 560,
   "metadata": {},
   "outputs": [
    {
     "name": "stdout",
     "output_type": "stream",
     "text": [
      "b'\\x01\\x00\\x00\\x00\\x02\\x00\\x00\\x00\\x03\\x00\\x00\\x00'\n",
      "b'\\x00\\x00\\x00\\x01\\x00\\x00\\x00\\x02\\x00\\x00\\x00\\x03'\n",
      "b'\\x01\\x00\\x00\\x00\\x02\\x00\\x00\\x00\\x03\\x00\\x00\\x00'\n"
     ]
    }
   ],
   "source": [
    "#73 For the given NumPy array, swap its byte order without modifying the original array using `newbyteorder()\n",
    "from io import BytesIO\n",
    "x = np.array([1, 2, 3], dtype=np.int32)\n",
    "y = x.byteswap(False)\n",
    "z = x.newbyteorder('S')\n",
    "for array in [x, y, z]:\n",
    "\n",
    "    b1 = BytesIO()\n",
    "    b1.write(array.data)\n",
    "    b1.seek(0)\n",
    "    print(b1.read())\n"
   ]
  },
  {
   "cell_type": "code",
   "execution_count": 562,
   "metadata": {},
   "outputs": [
    {
     "data": {
      "text/plain": [
       "b'\\x01\\x00\\x00\\x00\\x02\\x00\\x00\\x00\\x03\\x00\\x00\\x00'"
      ]
     },
     "execution_count": 562,
     "metadata": {},
     "output_type": "execute_result"
    }
   ],
   "source": [
    "#75 For the given NumPy array, check if byte swapping is necessary for the current system using `dtype`\n",
    "#attribute `byteorder\n",
    "arr = np.array([1, 2, 3], dtype=np.int32)\n",
    "def swap32(x):\n",
    "    y = bytearray(x)\n",
    "a = np.array(y, dtype=np.uint32)\n",
    "bytes(a.byteswap())\n",
    "brr = bytes(arr)\n",
    "brr"
   ]
  },
  {
   "cell_type": "code",
   "execution_count": 563,
   "metadata": {},
   "outputs": [
    {
     "name": "stdout",
     "output_type": "stream",
     "text": [
      "Original array: \n",
      "[ 1.54  2.99  3.42  4.87  6.94  8.21  7.65 10.5  77.5 ]\n",
      "\n",
      "Copied array: \n",
      "[ 1.54  2.99  3.42  4.87  6.94  8.21  7.65 10.5  77.5 ]\n"
     ]
    }
   ],
   "source": [
    "#76 Create a NumPy array `arr1` with values from 1 to 10. Create a copy of `arr1` named `copy_arr` and modify\n",
    "#an element in `copy_arr`. Check if modifying `copy_arr` affects `arr1`.\n",
    "org_array = np.array([1.54, 2.99, 3.42, 4.87, 6.94,\n",
    "                      8.21, 7.65, 10.50, 77.5])\n",
    " \n",
    "print(\"Original array: \")\n",
    " \n",
    "# printing the Numpy array\n",
    "print(org_array)\n",
    " \n",
    "# Now copying the org_array to copy_array\n",
    "# using np.copy() function\n",
    "copy_array = np.copy(org_array)\n",
    " \n",
    "print(\"\\nCopied array: \")\n",
    " \n",
    "# printing the copied Numpy array\n",
    "print(copy_array)"
   ]
  },
  {
   "cell_type": "code",
   "execution_count": 571,
   "metadata": {},
   "outputs": [
    {
     "name": "stdout",
     "output_type": "stream",
     "text": [
      "[[0 1 2]\n",
      " [3 4 5]\n",
      " [6 7 8]]\n"
     ]
    },
    {
     "data": {
      "text/plain": [
       "array([[  0,   1,   2],\n",
       "       [  3,   4,   5],\n",
       "       [100,   7,   8]])"
      ]
     },
     "execution_count": 571,
     "metadata": {},
     "output_type": "execute_result"
    }
   ],
   "source": [
    "#77  Create a 2D NumPy array `matrix` of shape (3, 3) with random integers. Extract a slice `view_slice` from\n",
    "#the matrix. Modify an element in `view_slice` and observe if it changes the original `matrix`.\n",
    "from numpy import reshape\n",
    "x = range(9)\n",
    "x = reshape(x,(3,3))\n",
    "print(x)\n",
    "x[2,0]=100\n",
    "x"
   ]
  },
  {
   "cell_type": "code",
   "execution_count": 10,
   "metadata": {},
   "outputs": [
    {
     "name": "stdout",
     "output_type": "stream",
     "text": [
      "[[ 1  2  3]\n",
      " [ 4  5  6]\n",
      " [ 7  8  9]\n",
      " [10 11 12]]\n",
      "[[1 2 3]\n",
      " [4 5 6]]\n",
      "[[5 5 5]\n",
      " [5 5 5]\n",
      " [5 5 5]\n",
      " [5 5 5]]\n"
     ]
    },
    {
     "data": {
      "text/plain": [
       "array([[ 6,  7,  8],\n",
       "       [ 9, 10, 11],\n",
       "       [12, 13, 14],\n",
       "       [15, 16, 17]])"
      ]
     },
     "execution_count": 10,
     "metadata": {},
     "output_type": "execute_result"
    }
   ],
   "source": [
    "#78  Create a NumPy array `array_a` of shape (4, 3) with sequential integers from 1 to 12. Extract a slice\n",
    "#`view_b` from `array_a` and broadcast the addition of 5 to view_b. Check if it alters the original `array_a`.\n",
    "import numpy as np\n",
    "arr_a = np.arange(1,13).reshape(( 4, 3))\n",
    "print(arr_a)\n",
    "a=view_b=slice(0,2)\n",
    "a\n",
    "b=print(arr_a[view_b])\n",
    "b\n",
    "#b=np.array([5,5,5 ])\n",
    "c=np.array([[5,5,5],[5,5,5],[5,5,5],[5,5,5]])\n",
    "print(c)\n",
    "np.add(arr_a,c)\n"
   ]
  },
  {
   "cell_type": "code",
   "execution_count": 609,
   "metadata": {},
   "outputs": [
    {
     "name": "stdout",
     "output_type": "stream",
     "text": [
      "[[1 2 3 4]\n",
      " [5 6 7 8]]\n"
     ]
    },
    {
     "data": {
      "text/plain": [
       "array([[1, 2],\n",
       "       [3, 4],\n",
       "       [5, 6],\n",
       "       [7, 8]])"
      ]
     },
     "execution_count": 609,
     "metadata": {},
     "output_type": "execute_result"
    }
   ],
   "source": [
    "#79 Create a NumPy array `orig_array` of shape (2, 4) with values from 1 to 8. Create a reshaped view\n",
    "#`reshaped_view` of shape (4, 2) from orig_array. Modify an element in `reshaped_view` and check if it\n",
    "#reflects changes in the original `orig_array`.\n",
    "orig_array= np.arange(1,9).reshape(( 2,4))\n",
    "print(orig_array)\n",
    "reshaped_view= np.reshape((orig_array),(4,2))\n",
    "reshaped_view"
   ]
  },
  {
   "cell_type": "code",
   "execution_count": 16,
   "metadata": {},
   "outputs": [
    {
     "name": "stdout",
     "output_type": "stream",
     "text": [
      "[[ 1  2  3  4]\n",
      " [ 5  6  7  8]\n",
      " [ 9 10 11 12]]\n"
     ]
    },
    {
     "ename": "ValueError",
     "evalue": "The truth value of an array with more than one element is ambiguous. Use a.any() or a.all()",
     "output_type": "error",
     "traceback": [
      "\u001b[1;31m---------------------------------------------------------------------------\u001b[0m",
      "\u001b[1;31mValueError\u001b[0m                                Traceback (most recent call last)",
      "Cell \u001b[1;32mIn[16], line 8\u001b[0m\n\u001b[0;32m      5\u001b[0m data_copy\u001b[38;5;241m=\u001b[39m[]\n\u001b[0;32m      6\u001b[0m \u001b[38;5;28;01mfor\u001b[39;00m element \u001b[38;5;129;01min\u001b[39;00m data:\n\u001b[0;32m      7\u001b[0m   \u001b[38;5;66;03m# if the element is higher than 2, set the value to True, otherwise False:\u001b[39;00m\n\u001b[1;32m----> 8\u001b[0m   \u001b[38;5;28;01mif\u001b[39;00m element \u001b[38;5;241m>\u001b[39m \u001b[38;5;241m5\u001b[39m:\n\u001b[0;32m      9\u001b[0m     data_copy\u001b[38;5;241m.\u001b[39mappend(\u001b[38;5;28;01mTrue\u001b[39;00m)\n\u001b[0;32m     10\u001b[0m   \u001b[38;5;28;01melse\u001b[39;00m:\n",
      "\u001b[1;31mValueError\u001b[0m: The truth value of an array with more than one element is ambiguous. Use a.any() or a.all()"
     ]
    }
   ],
   "source": [
    "#80 . Create a NumPy array `data` of shape (3, 4) with random integers. Extract a copy `data_copy` of\n",
    "#elements greater than 5. Modify an element in `data_copy` and verify if it affects the original `data`.\n",
    "data= np.arange(1,13).reshape((3,4))\n",
    "print(data)\n",
    "data_copy=[]\n",
    "for element in data:\n",
    "  # if the element is higher than 2, set the value to True, otherwise False:\n",
    "  if element > 5:\n",
    "    data_copy.append(True)\n",
    "  else:\n",
    "    data_copy.append(False)\n",
    "\n",
    "newarr = data_copy[data]\n",
    "\n",
    "print(data_copy)\n",
    "print(newarr)"
   ]
  },
  {
   "cell_type": "code",
   "execution_count": 642,
   "metadata": {},
   "outputs": [
    {
     "name": "stdout",
     "output_type": "stream",
     "text": [
      "[[10 11 12 13 14 45 13]]\n",
      "[[99 89 67 68 46 56 34]]\n",
      "[[109 100  79  81  60 101  47]]\n",
      "[[-89 -78 -55 -55 -32 -11 -21]]\n"
     ]
    }
   ],
   "source": [
    "#81 Create two matrices A and B of identical shape containing integers and perform addition and subtraction\n",
    "#operations between them.\n",
    "A=np.matrix([10,11,12,13,14,45,13])\n",
    "print(A)\n",
    "B=np.matrix([99,89,67,68,46,56,34])\n",
    "print(B)\n",
    "print(A+B)\n",
    "print(A-B)"
   ]
  },
  {
   "cell_type": "code",
   "execution_count": 670,
   "metadata": {},
   "outputs": [
    {
     "name": "stdout",
     "output_type": "stream",
     "text": [
      "[[3 4 5]\n",
      " [2 3 4]\n",
      " [3 3 6]]\n",
      "[[ 3  4  2]\n",
      " [ 7  8  9]\n",
      " [12 10  4]]\n",
      "[[ 97  94  62]\n",
      " [ 75  72  47]\n",
      " [102  96  57]]\n"
     ]
    }
   ],
   "source": [
    "#82 Generate two matrices `C` (3x2) and `D` (2x4) and perform matrix multiplication.\n",
    "\n",
    "# create first matrix \n",
    "C = np.matrix([[3,4,5],[2,3,4],[3,3,6]])\n",
    "C\n",
    "# create second matrix \n",
    "D = np.matrix([[3,4,2],[7,8,9],[12,10,4]])\n",
    "D\n",
    "# display  \n",
    "print(C) \n",
    "  \n",
    "print(D)\n",
    "print(C*D)"
   ]
  },
  {
   "cell_type": "code",
   "execution_count": 10,
   "metadata": {},
   "outputs": [
    {
     "name": "stdout",
     "output_type": "stream",
     "text": [
      "[[3 4 5]\n",
      " [2 3 4]\n",
      " [3 3 6]]\n"
     ]
    },
    {
     "data": {
      "text/plain": [
       "matrix([[3, 2, 3],\n",
       "        [4, 3, 3],\n",
       "        [5, 4, 6]])"
      ]
     },
     "execution_count": 10,
     "metadata": {},
     "output_type": "execute_result"
    }
   ],
   "source": [
    "#83 Create a matrix `E` and find its transpose.\n",
    "E = np.matrix([[3,4,5],[2,3,4],[3,3,6]])\n",
    "print(E)\n",
    "E.T"
   ]
  },
  {
   "cell_type": "code",
   "execution_count": 5,
   "metadata": {},
   "outputs": [
    {
     "name": "stdout",
     "output_type": "stream",
     "text": [
      "[[1 2 3]\n",
      " [4 5 6]\n",
      " [7 8 9]]\n"
     ]
    }
   ],
   "source": [
    "#84  Generate a square matrix `F` and compute its determinant.\n",
    "from math import sqrt\n",
    "import numpy as np\n",
    "def square_matrix(*elements):\n",
    "    size = sqrt(len(elements))\n",
    "    if size.is_integer():\n",
    "      return np.array(elements).reshape(int(size), int(size))\n",
    "    else:\n",
    "      raise RuntimeError(\"Number of elements is not sufficient to make a square matrix\")\n",
    "\n",
    "\n",
    "print(square_matrix(1, 2, 3, 4, 5, 6, 7, 8, 9))\n"
   ]
  },
  {
   "cell_type": "code",
   "execution_count": 9,
   "metadata": {},
   "outputs": [
    {
     "name": "stdout",
     "output_type": "stream",
     "text": [
      "[[10 21 32]\n",
      " [40 35 56]\n",
      " [17 28 89]]\n",
      "[[0.1        0.04761905 0.03125   ]\n",
      " [0.025      0.02857143 0.01785714]\n",
      " [0.05882353 0.03571429 0.01123596]]\n"
     ]
    }
   ],
   "source": [
    "#85  Create a square matrix `G` and find its inverse.\n",
    "from math import sqrt\n",
    "import numpy as np\n",
    "def square_matrix(*elements):\n",
    "    size = sqrt(len(elements))\n",
    "    if size.is_integer():\n",
    "      return np.array(elements).reshape(int(size), int(size))\n",
    "    else:\n",
    "      raise RuntimeError(\"Number of elements is not sufficient to make a square matrix\")\n",
    "\n",
    "\n",
    "print(square_matrix(10, 21, 32, 40, 35, 56, 17, 28, 89))\n",
    "print(1/square_matrix(10, 21, 32, 40, 35, 56, 17, 28, 89))"
   ]
  }
 ],
 "metadata": {
  "kernelspec": {
   "display_name": "Python 3",
   "language": "python",
   "name": "python3"
  },
  "language_info": {
   "codemirror_mode": {
    "name": "ipython",
    "version": 3
   },
   "file_extension": ".py",
   "mimetype": "text/x-python",
   "name": "python",
   "nbconvert_exporter": "python",
   "pygments_lexer": "ipython3",
   "version": "3.12.4"
  }
 },
 "nbformat": 4,
 "nbformat_minor": 2
}
