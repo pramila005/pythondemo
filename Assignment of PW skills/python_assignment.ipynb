{
 "cells": [
  {
   "cell_type": "code",
   "execution_count": 136,
   "metadata": {},
   "outputs": [],
   "source": [
    "#Assignments: Data Structures in Python"
   ]
  },
  {
   "cell_type": "code",
   "execution_count": 137,
   "metadata": {},
   "outputs": [
    {
     "name": "stdout",
     "output_type": "stream",
     "text": [
      "['son', 'my', 'is', 'niki', 'and', 'Aviral']\n"
     ]
    }
   ],
   "source": [
    "#1 write a code to reverse a string.\n",
    "a = ['Aviral', 'and', 'niki', 'is', 'my', 'son']\n",
    "a.reverse()\n",
    "print(a)"
   ]
  },
  {
   "cell_type": "code",
   "execution_count": 138,
   "metadata": {},
   "outputs": [
    {
     "name": "stdout",
     "output_type": "stream",
     "text": [
      "[1, 7, 6, 5, 3]\n"
     ]
    }
   ],
   "source": [
    "a=[3,5, 6, 7, 1]\n",
    "a.reverse()\n",
    "print(a)"
   ]
  },
  {
   "cell_type": "code",
   "execution_count": 139,
   "metadata": {},
   "outputs": [
    {
     "name": "stdout",
     "output_type": "stream",
     "text": [
      "number of vowels: 16\n"
     ]
    }
   ],
   "source": [
    "#2. Write a code to count the number of vowels in  string\n",
    "a= (\"my name is pramila yadav and i am married to mr Dhruw.\") \n",
    "vowel_count= len([char for char in a if char in \"aeiouAEIOU\"])\n",
    "print(\"number of vowels:\", vowel_count)\n",
    "\n"
   ]
  },
  {
   "cell_type": "code",
   "execution_count": 140,
   "metadata": {},
   "outputs": [
    {
     "name": "stdout",
     "output_type": "stream",
     "text": [
      "NO\n"
     ]
    }
   ],
   "source": [
    "#3 Write a code to check if a given string is  palindrome or not.\n",
    "st = 'pwskills'\n",
    "j = -1\n",
    "flag = 0\n",
    "for i in st:\n",
    "    if i != st[j]:\n",
    "        flag = 1\n",
    "        break\n",
    "    j = j - 1\n",
    "if flag == 1:\n",
    "    print(\"NO\")\n",
    "else:\n",
    "    print(\"Yes\")\n"
   ]
  },
  {
   "cell_type": "code",
   "execution_count": 141,
   "metadata": {},
   "outputs": [
    {
     "data": {
      "text/plain": [
       "True"
      ]
     },
     "execution_count": 141,
     "metadata": {},
     "output_type": "execute_result"
    }
   ],
   "source": [
    "#4 Write a code to check if two given strings are anagrams of each other.\n",
    "str= ('listen','silent')\n",
    "sorted('listen')\n",
    "sorted('silent')\n",
    "sorted('listen')==sorted('silent')"
   ]
  },
  {
   "cell_type": "code",
   "execution_count": 142,
   "metadata": {},
   "outputs": [
    {
     "data": {
      "text/plain": [
       "False"
      ]
     },
     "execution_count": 142,
     "metadata": {},
     "output_type": "execute_result"
    }
   ],
   "source": [
    "str= ('Aviral', 'apple')\n",
    "sorted('aviral')\n",
    "sorted('apple')\n",
    "sorted('aviral')==sorted('apple')"
   ]
  },
  {
   "cell_type": "code",
   "execution_count": 178,
   "metadata": {},
   "outputs": [
    {
     "name": "stdout",
     "output_type": "stream",
     "text": [
      "the original string is: Aviral and niki both are my son niki\n",
      "the sub_string to find: niki\n",
      "2\n"
     ]
    }
   ],
   "source": [
    "#5 Write a code to find all occurrences of a given substring within another string.\n",
    "str= 'Aviral and niki both are my son niki'\n",
    "sub_string= 'niki'\n",
    "print(\"the original string is: \" + str)\n",
    "print(\"the sub_string to find: \" + sub_string)\n",
    "#res = [i for i in range(len(str)) if str.startswith(sub_string, i)] \n",
    "print(str.count(sub_string))\n",
    "\n"
   ]
  },
  {
   "cell_type": "code",
   "execution_count": 192,
   "metadata": {},
   "outputs": [
    {
     "name": "stdout",
     "output_type": "stream",
     "text": [
      "[0, 1, 2, 2, 3, 2, 2, 1, 2, 3, 1]\n"
     ]
    }
   ],
   "source": [
    "#6 Write a code to perform basic string compression using the counts of repeated characters.\n",
    "\n",
    "s= (2,1, 3, 4, 5, 3, 4, 4, 5, 2, 7, 8,9,9, 9, 6,6, 10,8)\n",
    "a = [0]*11\n",
    "for i in s:\n",
    " a[i]+=1\n",
    "\n",
    "\n",
    "print(a)"
   ]
  },
  {
   "cell_type": "code",
   "execution_count": 208,
   "metadata": {},
   "outputs": [
    {
     "name": "stdout",
     "output_type": "stream",
     "text": [
      "1\n",
      "3\n",
      "4\n",
      "5\n",
      "6\n"
     ]
    }
   ],
   "source": [
    "#7 Write a code to determine if a string has all unique characters.\n",
    "str= (3,3, 4, 5, 6, 1, 4)\n",
    "x=[0]*10\n",
    "for i in str:\n",
    " x[i]+=1\n",
    "for idx, y in enumerate(x):\n",
    " if(y>0):\n",
    "  print(idx)\n",
    " \n",
    "\n"
   ]
  },
  {
   "cell_type": "code",
   "execution_count": 316,
   "metadata": {},
   "outputs": [
    {
     "data": {
      "text/plain": [
       "{'a', 'f', 'g', 'h', 'j', 'k', 'l', 'm', 'p', 'u'}"
      ]
     },
     "execution_count": 316,
     "metadata": {},
     "output_type": "execute_result"
    }
   ],
   "source": [
    "    #or\n",
    "a=\"aaaappppkkkllfffmmgghjuu\"\n",
    "set(a)\n"
   ]
  },
  {
   "cell_type": "code",
   "execution_count": 71,
   "metadata": {},
   "outputs": [
    {
     "name": "stdout",
     "output_type": "stream",
     "text": [
      "AVIRAL AND NIKI BOTH ARE MY SON\n",
      "aviral and niki both are my son\n"
     ]
    }
   ],
   "source": [
    "#8 Write a code to convert a given string to uppercase or lowercase.\n",
    "\n",
    "str= (\"Aviral and niki both are my son\")\n",
    "print(str.upper())\n",
    "print(str.lower())"
   ]
  },
  {
   "cell_type": "code",
   "execution_count": 217,
   "metadata": {},
   "outputs": [
    {
     "name": "stdout",
     "output_type": "stream",
     "text": [
      "31\n",
      "9\n"
     ]
    }
   ],
   "source": [
    "#9 Write a code to count the number of words in a string.\n",
    "str= (\"Aviral and niki both are my son\")\n",
    "print(len(str))\n",
    "s= 2, 3, 5, 6, 7,8, 9, 3, 5, \n",
    "print(len(s))"
   ]
  },
  {
   "cell_type": "code",
   "execution_count": 239,
   "metadata": {},
   "outputs": [
    {
     "name": "stdout",
     "output_type": "stream",
     "text": [
      "my son name is Aviral. niki is also my son\n",
      "2,4,5,6,7,7, 6,7,8,9,3,4,\n"
     ]
    }
   ],
   "source": [
    "#10  Write a code to concatenate two strings without using the + operator.\n",
    "a= \"my son name is Aviral.\"\n",
    "b= \"niki is also my son\"\n",
    "print(a,b)\n",
    "#or\n",
    "x='2,4,5,6,7,7,'\n",
    "y='6,7,8,9,3,4,'\n",
    "print(x,y)"
   ]
  },
  {
   "cell_type": "code",
   "execution_count": 278,
   "metadata": {},
   "outputs": [
    {
     "name": "stdout",
     "output_type": "stream",
     "text": [
      "I\n",
      "['my', 'name', 'is', 'pramila', 'am', 'student', 'of', 'pwskills']\n",
      "am\n",
      "['my', 'name', 'is', 'pramila', 'student', 'of', 'pwskills']\n"
     ]
    }
   ],
   "source": [
    "#11 Write a code to remove all occurrenaes of a specific element from a list.\n",
    "x=['my', 'name', 'is', 'pramila', 'I', 'am', 'student', 'of', 'pwskills']\n",
    "print(x.pop(4))\n",
    "print(x)\n",
    "print(x.pop(4))\n",
    "print(x)"
   ]
  },
  {
   "cell_type": "code",
   "execution_count": 295,
   "metadata": {},
   "outputs": [
    {
     "name": "stdout",
     "output_type": "stream",
     "text": [
      "9\n"
     ]
    }
   ],
   "source": [
    "#12 Implement a code to find the second largest number in a given list of integers.\n",
    "a= [9, 8, 7, 6, 5, 4, 5, 6, 3, 12]\n",
    "print(sorted(a, reverse=True)[1])"
   ]
  },
  {
   "cell_type": "code",
   "execution_count": 331,
   "metadata": {},
   "outputs": [
    {
     "name": "stdout",
     "output_type": "stream",
     "text": [
      "0\n"
     ]
    }
   ],
   "source": [
    "#13 Create a code to count the occurrences of each element in a list and return a dictionary with element as \n",
    "# keys and their counts as values.\n",
    "list=[11, 12, 13, 14, 15, 16, 10, 11, 12, 18],\n",
    "count_12=list.count(12)\n",
    "print(count_12)"
   ]
  },
  {
   "cell_type": "code",
   "execution_count": 339,
   "metadata": {},
   "outputs": [
    {
     "name": "stdout",
     "output_type": "stream",
     "text": [
      "vadayalimarpsiemanyM\n"
     ]
    }
   ],
   "source": [
    "#14 Write a code to reverse a list in-place without using an build-in reverse functions.  \n",
    "x= (\"My\" \"name\" \"is\" \"pramila\" \"yadav\")\n",
    "y = x[len(x):None:-1]\n",
    "print(y)"
   ]
  },
  {
   "cell_type": "code",
   "execution_count": 343,
   "metadata": {},
   "outputs": [
    {
     "name": "stdout",
     "output_type": "stream",
     "text": [
      "Original List: [1, 2, 3, 4, 2, 1, 5, 6, 10, 4]\n",
      "Update List: [1, 2, 3, 4, 5, 6, 10]\n"
     ]
    }
   ],
   "source": [
    "#15 Implement a code to find and remove duplicates from a list while preserving the original order of elements.\n",
    "original_list = [1, 2, 3, 4, 2, 1, 5, 6,10, 4]\n",
    "print(\"Original List:\", original_list)\n",
    " \n",
    "unique_list = []\n",
    "for x in original_list:\n",
    "    if x not in unique_list:\n",
    "        unique_list.append(x)\n",
    "print(\"Update List:\", unique_list)"
   ]
  },
  {
   "cell_type": "code",
   "execution_count": 79,
   "metadata": {},
   "outputs": [
    {
     "name": "stdout",
     "output_type": "stream",
     "text": [
      "The list is sorted in ascending order: [1, 2, 3, 4, 5]\n"
     ]
    }
   ],
   "source": [
    "#16 Create a code to check if a given list is sorted (either in ascending or descending order) or not.\n",
    "\n",
    " \n",
    "def is_sorted_ascending(lst):\n",
    "    return all(lst[index] <= lst[index + 1] for index in range(len(lst) - 1))\n",
    "\n",
    "list_1 = [1, 2, 3, 4, 5]\n",
    "if is_sorted_ascending(list_1):\n",
    "    print(\"The list is sorted in ascending order:\", list_1 )\n",
    "else:\n",
    "    print(\"The list is not sorted in ascending order.\")"
   ]
  },
  {
   "cell_type": "code",
   "execution_count": 353,
   "metadata": {},
   "outputs": [
    {
     "name": "stdout",
     "output_type": "stream",
     "text": [
      "No, List is not sorted.\n"
     ]
    }
   ],
   "source": [
    "test_list=[2,4,6,7,5,6,8,9,4]\n",
    "flag = 0\n",
    "if(test_list == sorted(test_list)):\n",
    "    flag = 1\n",
    "     \n",
    "# printing result\n",
    "if (flag) :\n",
    "    print (\"Yes, List is sorted.\")\n",
    "else :\n",
    "    print (\"No, List is not sorted.\")"
   ]
  },
  {
   "cell_type": "code",
   "execution_count": 358,
   "metadata": {},
   "outputs": [
    {
     "name": "stdout",
     "output_type": "stream",
     "text": [
      "list ater sorting: [1, 2, 4, 5, 6, 8, 8, 9, 10, 11, 12, 23, 45, 65]\n"
     ]
    }
   ],
   "source": [
    "#17 Write a code to merge two sorted lists into a single sorted list.\n",
    "x=[12,23,45,65,11,9]\n",
    "y=[8,1,2,6,4,8,5,10]\n",
    "Result= sorted(x+y)\n",
    "print(\"list ater sorting:\" , (Result))"
   ]
  },
  {
   "cell_type": "code",
   "execution_count": 390,
   "metadata": {},
   "outputs": [
    {
     "name": "stdout",
     "output_type": "stream",
     "text": [
      "{34, 6, 9, 10, 21}\n"
     ]
    }
   ],
   "source": [
    "#18  Implement a code to find the intersection of two given lists.\n",
    "\n",
    "x= [21,23,34,56,9,10,6,21]\n",
    "y= [9,8,7,21,6,5,34,4,3,2,1,10]\n",
    "z=set(x).intersection(set(y))\n",
    "print(z)"
   ]
  },
  {
   "cell_type": "code",
   "execution_count": 81,
   "metadata": {},
   "outputs": [
    {
     "name": "stdout",
     "output_type": "stream",
     "text": [
      "The resultant merged list is: [65, 1, 67, 8, 45, 23, 89, 90, 31]\n"
     ]
    }
   ],
   "source": [
    "#19 Create a code to find the union of two lists without duplicates.\n",
    "list1 = [23, 45, 65, 31, 1, 89]\n",
    "list2 = [67, 89, 23, 45, 8, 90]\n",
    "\n",
    "set1 = set(list1)\n",
    "set2 = set(list2)\n",
    "\n",
    "ans = list(set1.union(set2))\n",
    "print(\"The resultant merged list is:\", ans)\n"
   ]
  },
  {
   "cell_type": "code",
   "execution_count": 84,
   "metadata": {},
   "outputs": [
    {
     "name": "stdout",
     "output_type": "stream",
     "text": [
      "Original list: [1, 2, 3, 4, 5]\n",
      "Shuffled list: [3, 4, 1, 5, 2]\n"
     ]
    }
   ],
   "source": [
    "#20 Write a code to shuffle a given list randomly without using an built-in shuffle functions.\n",
    "\n",
    "import random\n",
    "\n",
    "def shuffle_list(lst):\n",
    "    \"\"\"\n",
    "    Shuffles the given list randomly.\n",
    "    Args:\n",
    "        lst (list): The list to shuffle.\n",
    "    Returns:\n",
    "        list: A new list with elements shuffled into a random order.\n",
    "         \"\"\"\n",
    "    new_lst = lst[:]  # Create a copy of the original list\n",
    "    for i in range(len(new_lst) - 1, 0, -1):\n",
    "        other = random.randint(0, i)\n",
    "        if other == i:\n",
    "            continue\n",
    "        new_lst[i], new_lst[other] = new_lst[other], new_lst[i]\n",
    "    return new_lst\n",
    "# Example usage:\n",
    "original_list = [1, 2, 3, 4, 5]\n",
    "shuffled_list = shuffle_list(original_list)\n",
    "print(\"Original list:\", original_list)\n",
    "print(\"Shuffled list:\", shuffled_list)\n",
    "\n"
   ]
  },
  {
   "cell_type": "code",
   "execution_count": 85,
   "metadata": {},
   "outputs": [
    {
     "name": "stdout",
     "output_type": "stream",
     "text": [
      "(('m', 'v'), 9)\n"
     ]
    }
   ],
   "source": [
    "#21 Write a code that takes two tuples as input and returns a new tuple containing elements that are \n",
    "#common to both input tuples.\n",
    "def find_common_elements(tpl1, tpl2):\n",
    "    # Convert tuples to sets to remove duplicates\n",
    "    tpl1_set = set(tpl1)\n",
    "    tpl2_set = set(tpl2)\n",
    "    \n",
    "    # Find common elements using set intersection\n",
    "    common_elements = tpl1_set & tpl2_set\n",
    "    \n",
    "    # Convert the result back to a tuple\n",
    "    return tuple(common_elements)\n",
    "# Example usage\n",
    "tpl1 = (4, 'v', (1, 3), 9, 8, ('m', 'v'))\n",
    "tpl2 = (7, 6, (3, 1), 5, 9, ('m', 'v'))\n",
    "\n",
    "result = find_common_elements(tpl1, tpl2)\n",
    "print(result)"
   ]
  },
  {
   "cell_type": "code",
   "execution_count": 13,
   "metadata": {},
   "outputs": [
    {
     "name": "stdout",
     "output_type": "stream",
     "text": [
      "({10, 1, 2, 3}, {2, 3, 4, 5, 6})\n"
     ]
    }
   ],
   "source": [
    "#22 Create a code that prompts the user to enter two sets of integers separated by commas. Then print the \n",
    "#intersection of these two sets.\n",
    "def two_set(set_a, set_b):\n",
    "        return (set_a, set_b)\n",
    "\n",
    "\n",
    "set_a = set([1,2,2,3,10])\n",
    "set_b = set([2,3,4,5,6,6,6,6])\n",
    "\n",
    "print(two_set(set_a, set_b))"
   ]
  },
  {
   "cell_type": "code",
   "execution_count": 18,
   "metadata": {},
   "outputs": [
    {
     "name": "stdout",
     "output_type": "stream",
     "text": [
      "Concatenated tuple: (1, 3, 5, 25, 4, 6, 10, 11)\n"
     ]
    }
   ],
   "source": [
    "#23 Write a code to concatenate two tuples. The function should take two tuples as input and return a new \n",
    "#tuple containing elements from both input tuples.\n",
    "def concatenate_tuples(tup1, tup2):\n",
    "    return tup1 + tup2\n",
    "\n",
    "tuple1 = (1, 3, 5,25)\n",
    "tuple2 = (4, 6,10,11)\n",
    "result = concatenate_tuples(tuple1, tuple2)\n",
    "print(\"Concatenated tuple:\", result)\n"
   ]
  },
  {
   "cell_type": "code",
   "execution_count": 19,
   "metadata": {},
   "outputs": [],
   "source": [
    "#24 Develop a code that prompts the user to input two sets of strings. Then print the elements that are \n",
    "#present in the first set but not in the second set.\n",
    "def main():\n",
    "    # Input strings from the user\n",
    "    set1 = set(input(\"Enter strings for the first set (comma-separated): \").split(\",\"))\n",
    "    set2 = set(input(\"Enter strings for the second set (comma-separated): \").split(\",\"))\n",
    "\n",
    "    # Find elements in set1 but not in set2\n",
    "    difference = set1 - set2\n",
    "\n",
    "    # Print the result\n",
    "    print(f\"Elements in the first set but not in the second set: {', '.join(difference)}\")\n",
    "\n",
    "if __name__ == \"__main__\":\n",
    "    main()"
   ]
  },
  {
   "cell_type": "code",
   "execution_count": 1,
   "metadata": {},
   "outputs": [
    {
     "name": "stdout",
     "output_type": "stream",
     "text": [
      "(2, 3, 4, 7, 8, 9)\n"
     ]
    }
   ],
   "source": [
    "#25 Create a code that takes a tuple and two integers as input. The function should return a new tuple \n",
    "#containing elements from the original tuple within the specified range of indices.\n",
    "def extract_elements_from_tuple(input_tuple, start, end):\n",
    "    return input_tuple[start:end]\n",
    "\n",
    "original_tuple = (0, 1, 2, 3, 4, 5, 6, 7, 8, 9)\n",
    "start_range1, end_range1 = 2, 5\n",
    "start_range2, end_range2 = 7, 10\n",
    "\n",
    "extracted_elements = extract_elements_from_tuple(original_tuple, start_range1, end_range1) + \\\n",
    "                     extract_elements_from_tuple(original_tuple, start_range2, end_range2)\n",
    "\n",
    "print(extracted_elements)"
   ]
  },
  {
   "cell_type": "code",
   "execution_count": 2,
   "metadata": {},
   "outputs": [],
   "source": [
    "#26  Write a code that prompts the user to input two sets of characters. Then print the union of these two sets.\n",
    "set1 = set(input(\"Enter the first set of characters (separated by spaces): \").split())\n",
    "set2 = set(input(\"Enter the second set of characters (separated by spaces): \").split())\n",
    "\n",
    "union_set = set1.union(set2)\n",
    "\n",
    "print(f\"The union of the two sets is: {union_set}\")\n"
   ]
  },
  {
   "cell_type": "code",
   "execution_count": 13,
   "metadata": {},
   "outputs": [
    {
     "name": "stdout",
     "output_type": "stream",
     "text": [
      "Max: 10, Min: 1\n"
     ]
    }
   ],
   "source": [
    "#27 Develop a code that takes a tuple of integers as input. The function should return the maximum and \n",
    "#minimum values from the tuple using tuple unpacking.\n",
    "example_tuple = (1, 2, 3, 4, 5,10)\n",
    "result = max_and_min(example_tuple)\n",
    "print(f\"Max: {result[0]}, Min: {result[1]}\")"
   ]
  },
  {
   "cell_type": "code",
   "execution_count": 14,
   "metadata": {},
   "outputs": [
    {
     "name": "stdout",
     "output_type": "stream",
     "text": [
      "Union: {1, 2, 3, 4, 5, 6, 7}\n",
      "Intersection: {3, 4, 5}\n",
      "Difference (set1 - set2): {1, 2}\n"
     ]
    }
   ],
   "source": [
    "#28. Create a code that defines two sets of integers. Then print the union intersection and difference of these\n",
    "# two sets.\n",
    "set1 = {1, 2, 3, 4, 5}\n",
    "set2 = {3, 4, 5, 6, 7}\n",
    "\n",
    "# Calculate and print the union\n",
    "union_set = set1 | set2\n",
    "print(f\"Union: {union_set}\")\n",
    "\n",
    "intersection_set = set1 & set2\n",
    "print(f\"Intersection: {intersection_set}\")\n",
    "\n",
    "# Calculate and print the difference (elements in set1 but not in set2)\n",
    "difference_set = set1 - set2\n",
    "print(f\"Difference (set1 - set2): {difference_set}\")\n",
    " "
   ]
  },
  {
   "cell_type": "code",
   "execution_count": 17,
   "metadata": {},
   "outputs": [
    {
     "name": "stdout",
     "output_type": "stream",
     "text": [
      "4\n"
     ]
    }
   ],
   "source": [
    "#29 Write a code that takes a tuple and an element as input. The function should return the count of \n",
    "#occurrences of the given element in the tuple.\n",
    "def count_using_count(tup, x):\n",
    "    return tup.count(x)\n",
    "my_tuple = (10, 8, 5, 2, 10, 15, 10, 8, 5, 8, 8, 2)\n",
    "element_to_find=8\n",
    "print(count_using_count(my_tuple, element_to_find))\n"
   ]
  },
  {
   "cell_type": "code",
   "execution_count": 86,
   "metadata": {},
   "outputs": [],
   "source": [
    "#30 Develop a code that prompts the user to input two sets of strings. Then print the symmetric difference of \n",
    "# these two sets.\n",
    "set_A = set(input(\"Enter the first set of strings (comma-separated): \").split(\",\"))\n",
    "set_B = set(input(\"Enter the second set of strings (comma-separated): \").split(\",\"))\n",
    "\n",
    "# Calculate the symmetric difference\n",
    "symmetric_diff = set_A.symmetric_difference(set_B)\n",
    "\n",
    "# Print the result\n",
    "print(f\"Symmetric difference of the two sets: {symmetric_diff}\")"
   ]
  },
  {
   "cell_type": "code",
   "execution_count": 48,
   "metadata": {},
   "outputs": [
    {
     "ename": "NameError",
     "evalue": "name 'word_count' is not defined",
     "output_type": "error",
     "traceback": [
      "\u001b[1;31m---------------------------------------------------------------------------\u001b[0m",
      "\u001b[1;31mNameError\u001b[0m                                 Traceback (most recent call last)",
      "Cell \u001b[1;32mIn[48], line 8\u001b[0m\n\u001b[0;32m      5\u001b[0m \u001b[38;5;28;01mfor\u001b[39;00m word \u001b[38;5;129;01min\u001b[39;00m input_words:\n\u001b[0;32m      6\u001b[0m         \u001b[38;5;66;03m# Convert the word to lowercase to treat uppercase and lowercase versions as the same word\u001b[39;00m\n\u001b[0;32m      7\u001b[0m         word \u001b[38;5;241m=\u001b[39m word\u001b[38;5;241m.\u001b[39mlower()\n\u001b[1;32m----> 8\u001b[0m         \u001b[38;5;28;01mif\u001b[39;00m word \u001b[38;5;129;01min\u001b[39;00m \u001b[43mword_count\u001b[49m:\n\u001b[0;32m      9\u001b[0m             word_count[word] \u001b[38;5;241m+\u001b[39m\u001b[38;5;241m=\u001b[39m \u001b[38;5;241m1\u001b[39m\n\u001b[0;32m     10\u001b[0m         \u001b[38;5;28;01melse\u001b[39;00m:\n",
      "\u001b[1;31mNameError\u001b[0m: name 'word_count' is not defined"
     ]
    }
   ],
   "source": [
    "#31 Write a code that takes a list of words as input and returns a dictionary where the keys are unique words \n",
    "# and the values are the frequencies of those words in the input list.\n",
    "def word_frequencies(input_words):\n",
    "  word_count = {}\n",
    "for word in input_words:\n",
    "        # Convert the word to lowercase to treat uppercase and lowercase versions as the same word\n",
    "        word = word.lower()\n",
    "        if word in word_count:\n",
    "            word_count[word] += 1\n",
    "        else:\n",
    "            word_count[word] = 1\n",
    "return word_count\n",
    "input_words = [\"apple\", \"banana\", \"apple\", \"cherry\", \"banana\", \"apple\"]\n",
    "result = word_frequencies(input_words)\n",
    "print(result)\n"
   ]
  },
  {
   "cell_type": "code",
   "execution_count": 54,
   "metadata": {},
   "outputs": [
    {
     "name": "stdout",
     "output_type": "stream",
     "text": [
      "{'a': 10, 'b': 8, 'e': 7, 'd': 6, 'c': 4, 'f': 5}\n"
     ]
    }
   ],
   "source": [
    "#32 Write a code that takes two dictionaries as input and merges them into a single dictionary. If there are \n",
    "#common keys the values should be added together.\n",
    "def merge_dicts(dict1, dict2):\n",
    "    dict1.update(dict2)\n",
    "    return dict1\n",
    "\n",
    "dict1 = {'a': 10, 'b': 8, 'e': 7}\n",
    "dict2 = {'d': 6, 'c': 4, 'f': 5}\n",
    "merged_dict = merge_dicts(dict1, dict2)\n",
    "print(merged_dict)"
   ]
  },
  {
   "cell_type": "code",
   "execution_count": 57,
   "metadata": {},
   "outputs": [
    {
     "name": "stdout",
     "output_type": "stream",
     "text": [
      "Orange Price: 40\n",
      "Grapes Price: 200\n",
      "Tomato Price: 70\n",
      "carrot price: 50\n"
     ]
    }
   ],
   "source": [
    "#33  Write a code to access a value in a nested dictionary. The function should take the dictionary and a list of \n",
    "#keys as input and return the corresponding value. If any of the keys do not exist in the dictionary the \n",
    "#function should return None.\n",
    "market = {\n",
    "    \"fruits\": {\"apple\": 10, \"orange\": 40, \"strawberry\": 30, \"grapes\": 200},\n",
    "    \"vegetables\": {\"carrot\": 50, \"beans\": 100, \"tomato\": 70}\n",
    "}\n",
    "orange_price = market[\"fruits\"][\"orange\"]\n",
    "grapes_price = market[\"fruits\"][\"grapes\"]\n",
    "tomato_price = market[\"vegetables\"][\"tomato\"]\n",
    "carrot_price= market[\"vegetables\"][\"carrot\"]\n",
    "\n",
    "print(\"Orange Price:\", orange_price)\n",
    "print(\"Grapes Price:\", grapes_price)\n",
    "print(\"Tomato Price:\", tomato_price)\n",
    "print(\"carrot price:\", carrot_price )"
   ]
  },
  {
   "cell_type": "code",
   "execution_count": 58,
   "metadata": {},
   "outputs": [
    {
     "name": "stdout",
     "output_type": "stream",
     "text": [
      "{'grape': 1, 'banana': 2, 'apple': 5, 'orange': 8}\n"
     ]
    }
   ],
   "source": [
    "#34 Write a code that takes a dictionary as input and returns a sorted version of it based on the values. You \n",
    "#can choose whether to sort in ascending or descending order.\n",
    "sample_dict = {'apple': 5, 'banana': 2, 'orange': 8, 'grape': 1}\n",
    "sorted_dict = {}\n",
    "for key in sorted(sample_dict, key=sample_dict.get):\n",
    "    sorted_dict[key] = sample_dict[key]\n",
    "print(sorted_dict)"
   ]
  },
  {
   "cell_type": "code",
   "execution_count": 70,
   "metadata": {},
   "outputs": [
    {
     "ename": "NameError",
     "evalue": "name 'original_dict' is not defined",
     "output_type": "error",
     "traceback": [
      "\u001b[1;31m---------------------------------------------------------------------------\u001b[0m",
      "\u001b[1;31mNameError\u001b[0m                                 Traceback (most recent call last)",
      "Cell \u001b[1;32mIn[70], line 6\u001b[0m\n\u001b[0;32m      4\u001b[0m \u001b[38;5;28;01mdef\u001b[39;00m \u001b[38;5;21minvert_dict\u001b[39m(original_dict):\n\u001b[0;32m      5\u001b[0m   inverted_dict \u001b[38;5;241m=\u001b[39m {}\n\u001b[1;32m----> 6\u001b[0m \u001b[38;5;28;01mfor\u001b[39;00m key, value \u001b[38;5;129;01min\u001b[39;00m \u001b[43moriginal_dict\u001b[49m\u001b[38;5;241m.\u001b[39mitems():\n\u001b[0;32m      7\u001b[0m         \u001b[38;5;28;01mif\u001b[39;00m value \u001b[38;5;129;01mnot\u001b[39;00m \u001b[38;5;129;01min\u001b[39;00m inverted_dict:\n\u001b[0;32m      8\u001b[0m             inverted_dict[value] \u001b[38;5;241m=\u001b[39m [key]\n",
      "\u001b[1;31mNameError\u001b[0m: name 'original_dict' is not defined"
     ]
    }
   ],
   "source": [
    "#35 Write a code that inverts a dictionary swapping keys and values. Ensure that the inverted dictionary correctly\n",
    " #handles cases where multiple keys have the same value by storing the keys as a list in the inverted dictionary.\n",
    "\n",
    "def invert_dict(original_dict):\n",
    "  inverted_dict = {}\n",
    "for key, value in original_dict.items():\n",
    "        if value not in inverted_dict:\n",
    "            inverted_dict[value] = [key]\n",
    "        else:\n",
    "          inverted_dict[value].append(key)\n",
    "return inverted_dict\n",
    "my_dict = {'a': 1, 'b': 2, 'c': 1, 'd': 3}\n",
    "inverted_result = invert_dict(my_dict)\n",
    "print(inverted_result)"
   ]
  }
 ],
 "metadata": {
  "kernelspec": {
   "display_name": "Python 3",
   "language": "python",
   "name": "python3"
  },
  "language_info": {
   "codemirror_mode": {
    "name": "ipython",
    "version": 3
   },
   "file_extension": ".py",
   "mimetype": "text/x-python",
   "name": "python",
   "nbconvert_exporter": "python",
   "pygments_lexer": "ipython3",
   "version": "3.12.3"
  }
 },
 "nbformat": 4,
 "nbformat_minor": 2
}
